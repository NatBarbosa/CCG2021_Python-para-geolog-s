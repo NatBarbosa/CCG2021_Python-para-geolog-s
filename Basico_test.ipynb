{
  "nbformat": 4,
  "nbformat_minor": 0,
  "metadata": {
    "colab": {
      "name": "Basico_test.ipynb",
      "provenance": [],
      "collapsed_sections": [],
      "include_colab_link": true
    },
    "kernelspec": {
      "name": "python3",
      "display_name": "Python 3"
    },
    "language_info": {
      "name": "python"
    }
  },
  "cells": [
    {
      "cell_type": "markdown",
      "metadata": {
        "id": "view-in-github",
        "colab_type": "text"
      },
      "source": [
        "<a href=\"https://colab.research.google.com/github/NatBarbosa/CCG2021_Python-para-geolog-s/blob/main/Basico_test.ipynb\" target=\"_parent\"><img src=\"https://colab.research.google.com/assets/colab-badge.svg\" alt=\"Open In Colab\"/></a>"
      ]
    },
    {
      "cell_type": "markdown",
      "metadata": {
        "id": "5SiLDgP-EWvA"
      },
      "source": [
        "# Conceptos básicos\n",
        "\n",
        "---\n",
        "Notas para nosotras\n",
        "Vamos a crear este jupyter notebook de introducción con base en los videos de esta pagina\n",
        "\n",
        "https://codigofacilito.com/cursos/Python\n",
        "\n",
        "Eileen --> 0 - 6 \n",
        "Nataaliae --> 7 - 12\n",
        "\n",
        "## 0. Jupyter notebook\n",
        "\n",
        "Colab es un adaptación de un entorno de 'Jupyter notebook' hecha por google. Los códigos y los cuadernos son ejecutados y almacenados en la nube Google Drive.\n",
        "\n",
        "Jupyter notebook es una interfaz interactiva de programación en forma de cuaderno. Permite mezclar texto y código en el mismo documento. Esto es muy útil para aprender a programar, analizar resultados y garantizar reproducibilidad de estudios científicos.\n"
      ]
    },
    {
      "cell_type": "code",
      "metadata": {
        "colab": {
          "base_uri": "https://localhost:8080/"
        },
        "id": "Ve0ur0rQjNlV",
        "outputId": "c0fb3a85-32af-4d0d-fa91-41b13d856252"
      },
      "source": [
        "#Empezar en jupyter notebook\n",
        "print('Hola mundo')"
      ],
      "execution_count": null,
      "outputs": [
        {
          "output_type": "stream",
          "text": [
            "Hola mundo\n"
          ],
          "name": "stdout"
        }
      ]
    },
    {
      "cell_type": "markdown",
      "metadata": {
        "id": "WJIIsQ9QjTl8"
      },
      "source": [
        "Ahora inserta una celda e imprime tu nombre"
      ]
    },
    {
      "cell_type": "code",
      "metadata": {
        "id": "BQOZIK3mvJFM"
      },
      "source": [
        ""
      ],
      "execution_count": null,
      "outputs": []
    },
    {
      "cell_type": "markdown",
      "metadata": {
        "id": "g63-OTdyvK6s"
      },
      "source": [
        "---\n",
        "\n",
        "## 1. ¿Qué es Python?\n",
        "\n",
        "Python es un lenguaje de programación (creado 90´s,) cada vez más usado en la ciencia y en la industria debido a su legibilidad de código. \n",
        "\n",
        "Características:\n",
        "- Lenguaje interpretado:\n",
        "Nuestro programa se ejecutará utilziando un programa llamado interprete en vez de compliar el código en lenguaje máquna como C++, visual etc.\n",
        "- Tipado dinámico: \n",
        "Significa que no es necesario declarar el tipo de dato que contendrá nuestra variable. Es decir una variable puede comenzar teniendo un tipo de dato y cambiar en cualquier momento a otro tipo de dato (Ejemplo abajo).\n",
        "\n",
        "- Fuertemente tipado:\n",
        "No podemos combinar distintos tipos de datos. Ejemplo no podemos sumar un string con un número.\n",
        "\n",
        "- Multiplataforma (Windows, Linux, MAC)\n",
        "\n",
        "\n",
        "\n",
        "- **Orientado a objetos**\n",
        "\n",
        "Las variables tienen atributos (características) y podemos aplicar algún método de acuerdo a lo que necesitemos (funciones).\n",
        "\n",
        "**Ejemplo:**\n",
        "\n",
        "<img src=\"https://drive.google.com/uc?export=view&id=1gh3SJ08PNsFU98xknE4SKc3N6rF28_2z\" width=300 />\n",
        "\n",
        "\n",
        "Laboratorio de petrografía conformado rocas --> **(objetos)**\n",
        "\n",
        "Las rocas las podemos caracterizar desde el tamaño de grano, relación de claros y oscuros, porcentajes de minerales --> **(atributos)**\n",
        "\n",
        "Con los atributos podemos clasificar las rocas según Streckeisen o su ambiente geodinámico --> **(métodos)**"
      ]
    },
    {
      "cell_type": "code",
      "metadata": {
        "id": "CuN2NWIW1itm"
      },
      "source": [
        "#Ejemplo tipado dinámico"
      ],
      "execution_count": 1,
      "outputs": []
    },
    {
      "cell_type": "markdown",
      "metadata": {
        "id": "8AqfTRLeqhzK"
      },
      "source": [
        "---\n",
        "# 2. ¿Por qué Python?\n",
        "\n",
        "*   Recomendando cuando se inicia en la programación\n",
        "*   Similitudes con el pseudocódigo *(forma de expresar los distintos pasos que va a realizar un programa de la forma más parecida a un lenguaje de programación)*, facilitando su entendimiento.\n",
        "*   Lenguaje limpio vs Java, C+++, etc.\n",
        "*   Implica un código sencillo de escribir, ejemplo no se necesitan (;) y llaves {} para diferencias if o for. \n",
        "\n",
        "\n",
        "\n"
      ]
    },
    {
      "cell_type": "markdown",
      "metadata": {
        "id": "I5j4CM2gtKwr"
      },
      "source": [
        "---\n",
        "# 3. Nuestro primer código"
      ]
    },
    {
      "cell_type": "markdown",
      "metadata": {
        "id": "lSh8K3sk-_IB"
      },
      "source": [
        "**Clases**\n",
        "\n",
        "Las clases proveen una forma de empaquetar datos y funcionalidad juntos. Al crear una nueva clase, se crea un nuevo tipo de objeto, permitiendo crear nuevas instancias de ese tipo. Cada instancia de clase puede tener atributos adjuntos para mantener su estado. Las instancias de clase también pueden tener métodos (definidos por su clase) para modificar su estado\n",
        "\n",
        "**Funciones**\n",
        "\n",
        "Una función es un bloque de código con un nombre asociado, que recibe cero o más argumentos como entrada, sigue una secuencia de sentencias, la cuales ejecuta una operación deseada y devuelve un valor y/o realiza una tarea, este bloque puede ser llamados cuando se necesite.\n",
        "\n",
        "El uso de funciones es un componente muy importante del paradigma de la programación llamada estructurada, y tiene varias ventajas:\n",
        "\n",
        "-**Modularización:** permite segmentar un programa complejo en una serie de partes o módulos más simples, facilitando así la programación y el depurado.\n",
        "\n",
        "-**Reutilización:** permite reutilizar una misma función en distintos programas.\n",
        "\n",
        "**Class:** empaqueta datos y funciones\n",
        "\n",
        "**Def**: usada para crear objetos con funciones definidas por el usuario."
      ]
    },
    {
      "cell_type": "code",
      "metadata": {
        "id": "WsC8kwDRuOy5",
        "colab": {
          "base_uri": "https://localhost:8080/"
        },
        "outputId": "de9e4d73-07a9-451b-c240-0a4fb78bfcdf"
      },
      "source": [
        "print('Bienvenidos al curso de Python para Geólogos') #no necesita cargar librerías para ser ejecutado"
      ],
      "execution_count": null,
      "outputs": [
        {
          "output_type": "stream",
          "text": [
            "Bienvenidos al curso de Python para Geólogos\n"
          ],
          "name": "stdout"
        }
      ]
    },
    {
      "cell_type": "code",
      "metadata": {
        "id": "w-mv6idlx3Bm"
      },
      "source": [
        "class Roca:\n",
        "\n",
        "   def __init__(self, textura, claros, oscuros, q, a, p):\n",
        "\n",
        "      self.textura = textura\n",
        "      self.claros = claros\n",
        "      self.oscuros = oscuros\n",
        "      self.q = q\n",
        "      self.p = a\n",
        "      self.a = p\n",
        "\n",
        "   def cristales(self):\n",
        "     if self.textura == 'faneritica':\n",
        "       print(f'Mis cristales se pueden reconocer a simple vista')\n",
        "     else:\n",
        "      print(f'Mis cristales no se pueden reconocer a simple vista')\n",
        "    \n",
        "   def origen(self):\n",
        "     if self.textura == 'faneritica':\n",
        "       print(f'Lo mas probable es que sea una roca intrusiva')\n",
        "     if self.textura == 'afanitica':\n",
        "      print(f'Lo mas probable es que sea una roca extrusiva')"
      ],
      "execution_count": null,
      "outputs": []
    },
    {
      "cell_type": "code",
      "metadata": {
        "id": "UddNlpK3zzkQ"
      },
      "source": [
        "#creamos nuestra roca\n",
        "granito = Roca('faneritica', 60, 40, 20, 50, 30)\n",
        "basalto = Roca('afanitica',30, 70, 20, 50, 30 )"
      ],
      "execution_count": null,
      "outputs": []
    },
    {
      "cell_type": "code",
      "metadata": {
        "id": "bFcElcQ-1KDU"
      },
      "source": [
        "#conocer sus atributos \n"
      ],
      "execution_count": null,
      "outputs": []
    },
    {
      "cell_type": "code",
      "metadata": {
        "id": "zv6hrlxq5YMn"
      },
      "source": [
        ""
      ],
      "execution_count": null,
      "outputs": []
    },
    {
      "cell_type": "code",
      "metadata": {
        "id": "4eeOHqTyILv7"
      },
      "source": [
        ""
      ],
      "execution_count": null,
      "outputs": []
    },
    {
      "cell_type": "code",
      "metadata": {
        "id": "dJv6jWWCI5qh"
      },
      "source": [
        ""
      ],
      "execution_count": null,
      "outputs": []
    },
    {
      "cell_type": "code",
      "metadata": {
        "id": "PRbn9gJWJLK5"
      },
      "source": [
        ""
      ],
      "execution_count": null,
      "outputs": []
    },
    {
      "cell_type": "markdown",
      "metadata": {
        "id": "u0fyYPlLm9Vu"
      },
      "source": [
        "--- \n",
        "**Resumen** \n",
        "\n",
        "Python  - objetos, atributos y métodos\n",
        "\n",
        "\n",
        "---"
      ]
    },
    {
      "cell_type": "markdown",
      "metadata": {
        "id": "vgMoxR3G8H4A"
      },
      "source": [
        "---\n",
        "# 4. Tipos de datos\n",
        "\n",
        "\n",
        "4.1 Simples\n",
        " - Numéricos (Entero, Real, Booleano)\n",
        " - Texto (String)\n",
        "\n",
        "4.2 Compuestos \n",
        "  - Lista - Modificable\n",
        "  - Tupla - Inmodificable\n",
        "  - Conjuntos (Set)\n",
        "  - Diccionario - Grupo de pares\n"
      ]
    },
    {
      "cell_type": "markdown",
      "metadata": {
        "id": "0xGOUhh0ANRi"
      },
      "source": [
        "##4.1 Simples"
      ]
    },
    {
      "cell_type": "markdown",
      "metadata": {
        "id": "67mgJueB9fth"
      },
      "source": [
        "### Enteros, reales y texto"
      ]
    },
    {
      "cell_type": "code",
      "metadata": {
        "id": "fBvJpzAk96Z2"
      },
      "source": [
        "#Ejemplo entero\n",
        "\n",
        "\n",
        "#Ejemplo real\n",
        "\n",
        "\n",
        "#Ejemplo texto (string)\n"
      ],
      "execution_count": 2,
      "outputs": []
    },
    {
      "cell_type": "code",
      "metadata": {
        "id": "OwEPxDMl0zj9"
      },
      "source": [
        "#Operaciones aritméticas\n",
        "\n",
        "#Multiplicación\n",
        "\n",
        "a=30\n",
        "\n",
        "#División\n",
        "\n",
        "\n",
        "#Exponentes\n"
      ],
      "execution_count": 3,
      "outputs": []
    },
    {
      "cell_type": "markdown",
      "metadata": {
        "id": "zQc1PitA9UFy"
      },
      "source": [
        "### Variables booleanas\n",
        "Pueden tomar dos simples valores. En general elementos nulos o vacíos se consideran false y el resto True.\n",
        "\n",
        "*   bT= True \n",
        "*   bF= False\n",
        "\n",
        "**Operadores lógicos (booleanos And, Or, Not)** \n",
        "\n",
        "Son palabras o símbolos que permiten conectar de forma lógica conceptos o grupos de términos para así ampliar, limitar o definir tus búsquedas rápidamente\n"
      ]
    },
    {
      "cell_type": "code",
      "metadata": {
        "id": "274oNLhe-S2G"
      },
      "source": [
        "#Ejemplo con booleanos entero vs vacío\n",
        "\n",
        "bool([])\n"
      ],
      "execution_count": null,
      "outputs": []
    },
    {
      "cell_type": "code",
      "metadata": {
        "id": "ycARrNiLOn58"
      },
      "source": [
        "bool(25)"
      ],
      "execution_count": null,
      "outputs": []
    },
    {
      "cell_type": "markdown",
      "metadata": {
        "id": "VDhjfvPuA3fi"
      },
      "source": [
        "## 4.2 Compuestos\n",
        "Las listas son colecciones ordenadas que pueden contener enteros, booleanos, texto, flotantes, listas y tuplas"
      ]
    },
    {
      "cell_type": "markdown",
      "metadata": {
        "id": "S3imeattNRS7"
      },
      "source": [
        "###Listas y tuplas"
      ]
    },
    {
      "cell_type": "code",
      "metadata": {
        "id": "P0Gatd8x-ZbU"
      },
      "source": [
        "Lista=['a', 'b', 8, False,[\"roca\",10]]\n",
        "print(Lista)"
      ],
      "execution_count": null,
      "outputs": []
    },
    {
      "cell_type": "code",
      "metadata": {
        "id": "1-qlhm-kPpjy"
      },
      "source": [
        "Tupla=(3, 'geología', True, [\"minerales\"], (3,2))\n",
        "print(Tupla)"
      ],
      "execution_count": null,
      "outputs": []
    },
    {
      "cell_type": "markdown",
      "metadata": {
        "id": "RtSEpF1BHPd3"
      },
      "source": [
        "**Acceder y recorrer una lista y/o tupla**"
      ]
    },
    {
      "cell_type": "code",
      "metadata": {
        "id": "XtPgaJQIEj3q"
      },
      "source": [
        "#Cómo de acceder a los elementos \n",
        "Lista=['a', 'b', 8, False,[\"roca\",10]]\n"
      ],
      "execution_count": null,
      "outputs": []
    },
    {
      "cell_type": "code",
      "metadata": {
        "id": "haLLLCCGQTi8"
      },
      "source": [
        "Tupla=(3, 'geología', True, [\"minerales\"], (3,2))\n"
      ],
      "execution_count": null,
      "outputs": []
    },
    {
      "cell_type": "code",
      "metadata": {
        "id": "s18LLgO8_s6f"
      },
      "source": [
        "#Recorriendo los elementos\n",
        "tipos_roca=['gabro', 'basalto', 'granitoide', 'esquisto', 'lodolita, cuarzodiorita']\n",
        "\n",
        "for roca in tipos_roca:\n",
        "    print(roca)"
      ],
      "execution_count": null,
      "outputs": []
    },
    {
      "cell_type": "code",
      "metadata": {
        "id": "UQ2okt6jAAZn"
      },
      "source": [
        "# Recorriendo los índices\n",
        "for i in range(len(tipos_roca)):\n",
        "    print(tipos_roca[i])"
      ],
      "execution_count": null,
      "outputs": []
    },
    {
      "cell_type": "markdown",
      "metadata": {
        "id": "xF7xhTABI_La"
      },
      "source": [
        "**Listas vs Tuplas**"
      ]
    },
    {
      "cell_type": "code",
      "metadata": {
        "id": "-6oZ6WrRFwPz"
      },
      "source": [
        "#Ejemplo de modificable\n",
        "L=['a', 'b', 8, False,[\"roca\",10]]\n",
        "\n"
      ],
      "execution_count": null,
      "outputs": []
    },
    {
      "cell_type": "code",
      "metadata": {
        "id": "wwWWUtzwQ0t7"
      },
      "source": [
        ""
      ],
      "execution_count": null,
      "outputs": []
    },
    {
      "cell_type": "code",
      "metadata": {
        "id": "1KKVxbkm_Wm-"
      },
      "source": [
        "# ejemplo de inmodificable\n"
      ],
      "execution_count": 4,
      "outputs": []
    },
    {
      "cell_type": "markdown",
      "metadata": {
        "id": "i4bLsxuhSBFE"
      },
      "source": [
        "###Conjuntos\n",
        "\n",
        "Es una colección no ordenada y sin elementos repetidos. Los usos básicos de éstos incluyen verificación de pertenencia y eliminación de entradas duplicadas. Los conjuntos también soportan operaciones matemáticas como la unión, intersección, diferencia, y diferencia simétrica."
      ]
    },
    {
      "cell_type": "code",
      "metadata": {
        "id": "FUvJLLhhSsDz"
      },
      "source": [
        "#Ejemplo de set. Remueve elementos o entradas duplicadas\n",
        "basket = {'apple', 'orange', 'apple', 'pear', 'orange', 'banana'}\n",
        "print(basket)"
      ],
      "execution_count": null,
      "outputs": []
    },
    {
      "cell_type": "code",
      "metadata": {
        "id": "ePR59hK2S8vs"
      },
      "source": [
        "\"banana\" in basket"
      ],
      "execution_count": null,
      "outputs": []
    },
    {
      "cell_type": "code",
      "metadata": {
        "id": "DW1cqVfSTFaX"
      },
      "source": [
        "\"mango\" in basket"
      ],
      "execution_count": null,
      "outputs": []
    },
    {
      "cell_type": "markdown",
      "metadata": {
        "id": "lF5GSKi2OE54"
      },
      "source": [
        "###Diccionarios\n",
        "\n",
        "Son un tipo de datos asociativos indexados por medio de claves. Es como pensarlo como un conjunto de pares clave:valor con el requerimiento de que las claves sean únicas (dentro de un diccionario)\n"
      ]
    },
    {
      "cell_type": "code",
      "metadata": {
        "id": "HSHZCvf1NO0s"
      },
      "source": [
        "#Relación entre claves y elementos\n",
        "Diccionario={'Plagioclasa':2, 'Olivino':14, 'Feldespato':False}\n",
        "print (Diccionario)"
      ],
      "execution_count": null,
      "outputs": []
    },
    {
      "cell_type": "markdown",
      "metadata": {
        "id": "Mb2q39iyLcwj"
      },
      "source": [
        "**Concepto de claves**"
      ]
    },
    {
      "cell_type": "code",
      "metadata": {
        "id": "aSagM_5NLwfa"
      },
      "source": [
        "#Cómo de acceder a las claves\n"
      ],
      "execution_count": null,
      "outputs": []
    },
    {
      "cell_type": "code",
      "metadata": {
        "id": "nzrnHZMQPZYl"
      },
      "source": [
        "#Puedo modificar los elementos que contiene una clave\n"
      ],
      "execution_count": null,
      "outputs": []
    },
    {
      "cell_type": "code",
      "metadata": {
        "id": "juWRtldQUyWd"
      },
      "source": [
        ""
      ],
      "execution_count": null,
      "outputs": []
    },
    {
      "cell_type": "code",
      "metadata": {
        "id": "oIZ-KP5sVu-1"
      },
      "source": [
        "for a, b in D.items():\n",
        " print (a, b)"
      ],
      "execution_count": null,
      "outputs": []
    },
    {
      "cell_type": "markdown",
      "metadata": {
        "id": "MocykA4c233Q"
      },
      "source": [
        "---\n",
        "\n",
        "# 5. Librerías \n",
        "\n",
        "Las librerias son bibliotecas de códigos ordenadas en módulos diseñadas para ser reutilizadas.\n",
        "\n",
        "Numpy es una librería de Python especializada en el cálculo numérico y el análisis de datos, especialmente para un gran volumen de datos. Incorpora una nueva clase de objetos llamados arreglos (arrays) que permite representar colecciones de datos de un mismo tipo en varias dimensiones, y funciones muy eficientes para su manipulación.\n",
        "\n",
        "<img src=\"https://drive.google.com/uc?export=view&id=1i-lbLti7BqrDtMJwcy5hrma2hMzSq33k\" width=300 />"
      ]
    },
    {
      "cell_type": "markdown",
      "metadata": {
        "id": "yYqNpNms__R0"
      },
      "source": [
        "## 5.1. Concepto de arreglos (Array)\n",
        "\n",
        "Las estructuras de datos que hemos visto hasta ahora (listas, tuplas, diccionarios, conjuntos) permiten manipular datos de manera muy flexible. Combinándolas y anidándolas, es posible organizar información de manera estructurada para representar sistemas del mundo real.\n",
        "\n",
        "Sin embargo, más importante que la organización de los datos es la capacidad de hacer muchas operaciones a la vez sobre grandes conjuntos de datos numéricos de manera eficiente. Algunos ejemplos de problemas que requieren manipular grandes secuencias de números son: la predicción del clima, la construcción de edificios, y en nuestro caso para el manejo de un gran volumen de imagenes tipo raster.\n",
        "\n",
        "\n",
        "**La clase de objetos array**\n",
        "\n",
        "Un array es una estructura de datos de un mismo tipo organizada en forma de tabla o cuadrícula de distintas dimensiones.\n",
        "\n",
        "Las dimensiones de un array también se conocen como ejes.\n",
        "\n",
        "\n",
        "<img src=\"https://drive.google.com/uc?export=view&id=1_DUGbiJxn2CcIwkx0HKpLd6dr9Uw9A5R\" width=400 />\n",
        "\n",
        "\n",
        "Los arreglos tienen algunas similitudes con las listas:\n",
        "\n",
        "- Los elementos tienen un orden y se pueden acceder mediante su posición\n",
        "\n",
        "- Los elementos se pueden recorrer usando un ciclo for\n",
        "\n",
        "**Restricciones:**\n",
        "\n",
        "- Todos los elementos del arreglo deben ser del mismo tipo\n",
        "\n",
        "- En general, el tamaño del arreglo es fijo van creciendo dinámicamente como las listas\n",
        "\n",
        "- Se ocupan principalmente para almacenar datos numéricos\n",
        "\n",
        "\n",
        "\n",
        "\n",
        "\n",
        "\n"
      ]
    },
    {
      "cell_type": "code",
      "metadata": {
        "id": "lF7zk2lKBUx5"
      },
      "source": [
        "#Importat la librería\n",
        "import numpy as np"
      ],
      "execution_count": null,
      "outputs": []
    },
    {
      "cell_type": "code",
      "metadata": {
        "id": "Tx6PU_gHBY-f"
      },
      "source": [
        "arraylist = ['granito', 'basalto', 'arenisca', 'arcillolita', 'escoria']\n",
        "arraynp = np.array(['granito', 'basalto', 'arenisca', 'arcillolita', 'escoria'])"
      ],
      "execution_count": null,
      "outputs": []
    },
    {
      "cell_type": "code",
      "metadata": {
        "id": "dtsQ3p4GB1nJ"
      },
      "source": [
        "type (arraylist)"
      ],
      "execution_count": null,
      "outputs": []
    },
    {
      "cell_type": "code",
      "metadata": {
        "id": "4vaZeMLuJpBX"
      },
      "source": [
        ""
      ],
      "execution_count": null,
      "outputs": []
    },
    {
      "cell_type": "code",
      "metadata": {
        "id": "d1ysLaDBCYix"
      },
      "source": [
        ""
      ],
      "execution_count": null,
      "outputs": []
    },
    {
      "cell_type": "code",
      "metadata": {
        "id": "LYj_6pzpC15P"
      },
      "source": [
        ""
      ],
      "execution_count": null,
      "outputs": []
    },
    {
      "cell_type": "code",
      "metadata": {
        "id": "hfZ2iqdv43n-"
      },
      "source": [
        "# Acceder a los elementos de un array\n",
        "# Declarar 3 arrays con distinto número de dimensiones:\n",
        "\n",
        "#Arreglo de una dimensión\n",
        "a = np.array([1, 2, 3, 4, 5]) #vector\n",
        "\n",
        "#Arreglo de dos dimensiones\n",
        "b = np.array([[1, 2, 3], [4, 5, 6]]) #matriz\n",
        "\n",
        "#Arreglo de tres dimensiones\n",
        "c = np.array([[[1, 2], [3, 4]], [[5, 6], [7, 8]]]) #cubo\n",
        "print(a)\n",
        "a.shape\n",
        "a.size"
      ],
      "execution_count": null,
      "outputs": []
    },
    {
      "cell_type": "code",
      "metadata": {
        "id": "_0VUJMJ4Khab",
        "colab": {
          "base_uri": "https://localhost:8080/"
        },
        "outputId": "5b0c455f-627e-40f5-fa4c-aad731bf26ef"
      },
      "source": [
        ""
      ],
      "execution_count": null,
      "outputs": [
        {
          "output_type": "stream",
          "text": [
            "[[1 2 3]\n",
            " [4 5 6]]\n"
          ],
          "name": "stdout"
        },
        {
          "output_type": "execute_result",
          "data": {
            "text/plain": [
              "6"
            ]
          },
          "metadata": {
            "tags": []
          },
          "execution_count": 35
        }
      ]
    },
    {
      "cell_type": "code",
      "metadata": {
        "id": "_anbMmK_Kixh"
      },
      "source": [
        ""
      ],
      "execution_count": null,
      "outputs": []
    },
    {
      "cell_type": "code",
      "metadata": {
        "id": "qxGLimn_5BTK"
      },
      "source": [
        "#Acceder al primer elemento de cada array:\n"
      ],
      "execution_count": null,
      "outputs": []
    },
    {
      "cell_type": "code",
      "metadata": {
        "id": "tNo9e5OJKnm9"
      },
      "source": [
        ""
      ],
      "execution_count": null,
      "outputs": []
    },
    {
      "cell_type": "code",
      "metadata": {
        "id": "yB-aTfpjKrre"
      },
      "source": [
        ""
      ],
      "execution_count": null,
      "outputs": []
    },
    {
      "cell_type": "code",
      "metadata": {
        "id": "78HCSqy95Ivc"
      },
      "source": [
        "# Acceder a elementos de cada array:\n",
        "\n"
      ],
      "execution_count": null,
      "outputs": []
    },
    {
      "cell_type": "code",
      "metadata": {
        "id": "4j9RrALX5Nrn"
      },
      "source": [
        "# Acceder al último elemento de cada array:\n"
      ],
      "execution_count": null,
      "outputs": []
    },
    {
      "cell_type": "code",
      "metadata": {
        "id": "iKG28-mZ5Tn-"
      },
      "source": [
        "# Acceder a los cuatro primeros elementos (del índice 0 al 3):\n"
      ],
      "execution_count": null,
      "outputs": []
    },
    {
      "cell_type": "code",
      "metadata": {
        "id": "TSjh3RjH5X-W"
      },
      "source": [
        "# Acceder a los elementos del 3º hasta el penúltimo (del índice 2 al 4):\n"
      ],
      "execution_count": null,
      "outputs": []
    },
    {
      "cell_type": "code",
      "metadata": {
        "id": "rWsOgwUo5iGr",
        "colab": {
          "base_uri": "https://localhost:8080/"
        },
        "outputId": "0283496e-a068-4ae3-e9b5-32c51fecb628"
      },
      "source": [
        "# Acceder a los elementos con índices 0, 3 y 4:\n"
      ],
      "execution_count": null,
      "outputs": [
        {
          "output_type": "stream",
          "text": [
            "[1 4 5]\n"
          ],
          "name": "stdout"
        }
      ]
    },
    {
      "cell_type": "markdown",
      "metadata": {
        "id": "lqQUbjj9C6D9"
      },
      "source": [
        "---\n",
        "**Resumen**\n",
        "\n",
        "\n",
        "Python tiene como base diversos tipos de datos. Sin embargo, no existen los areglos (arrays).\n",
        "\n",
        "Para usar arreglos usamos una librería llamada Numpy - https://numpy.org/\n",
        "\n",
        "Para acceder a las funciones de numpy usamos notación punto\n",
        "\n",
        "El arreglo es un tipo de dato principal en el análisis espacial de datos. Arreglos bi-dimensionales son usados para representar modelos de elevacion digital (columnas y filas). Arreglos multi-dimensionales son usados para almacenar y procesar imagenes espectrales/multiespectrales y series de tiempo.\n",
        "\n",
        "Para acceder a los datos contenidos en un arreglo usamos *índices*. Los índices nos indican la posicion de un dato (pixel) en el arreglo. Entender este concepto es ¡fundamental! \n",
        "\n",
        "---"
      ]
    },
    {
      "cell_type": "markdown",
      "metadata": {
        "id": "-ZZXIYXOPDuE"
      },
      "source": [
        "# 6. Manejo de directorios\n",
        "\n",
        "El acceso a los datos para usar en el código es un tarea principal a la hora de programar. \n",
        "\n",
        "- Los datos para este curso fueron enviados con anterioridad. Por favor descargarlos y tenerlos en una carpeta de Google Drive. \n",
        "\n",
        "**Manejo de archivos y directorios**\n",
        "\n",
        "La librería para manejar directorios en Python se llama **os** - Provee funciones para interactuar con el sistema operativo.\n",
        "\n",
        "Para acceder a tus datos desde Google Colab necesitas:\n",
        "\n",
        "* Una autenticación desde tu cuenta asociada al Drive\n",
        "\n",
        "* Conexión de Google Colab con la carpeta donde almacenamos los datos"
      ]
    },
    {
      "cell_type": "code",
      "metadata": {
        "id": "-f8ygTLUPAQ4"
      },
      "source": [
        "from google.colab import drive\n",
        "import os"
      ],
      "execution_count": null,
      "outputs": []
    },
    {
      "cell_type": "code",
      "metadata": {
        "id": "PbhuOLI2QuIX"
      },
      "source": [
        "#Conecta tu Drive con Colab\n",
        "drive.mount('/content/GoogleDrive')"
      ],
      "execution_count": null,
      "outputs": []
    },
    {
      "cell_type": "code",
      "metadata": {
        "id": "ZckU4Q3XRILA"
      },
      "source": [
        "#¿Cuál es tu directorio?\n",
        "cwd = os.getcwd()\n",
        "print(\"Current working directory: \", cwd)"
      ],
      "execution_count": null,
      "outputs": []
    },
    {
      "cell_type": "code",
      "metadata": {
        "id": "5wCMEYCsQSGZ"
      },
      "source": [
        "#Buscamos la carpeta de trabajo\n",
        "os.chdir(\"/content/GoogleDrive/My Drive/PROJECTS/CCG_2021/CourseData\")"
      ],
      "execution_count": null,
      "outputs": []
    },
    {
      "cell_type": "markdown",
      "metadata": {
        "id": "N2Sc79jpR0on"
      },
      "source": [
        "* ¿Qué información está almacenada en la carpeta del curso? "
      ]
    },
    {
      "cell_type": "code",
      "metadata": {
        "colab": {
          "base_uri": "https://localhost:8080/"
        },
        "id": "uthJ7tadRoar",
        "outputId": "e7d5a6e0-2221-4680-e41d-829fdaf195d2"
      },
      "source": [
        "#Lista de archivos y carpetas en nuestro directorio de trabajo\n",
        "dir_list = os.listdir(cwd)\n",
        "print(dir_list)"
      ],
      "execution_count": null,
      "outputs": [
        {
          "output_type": "stream",
          "text": [
            "['.config', 'GoogleDrive', 'sample_data']\n"
          ],
          "name": "stdout"
        }
      ]
    },
    {
      "cell_type": "markdown",
      "metadata": {
        "id": "iAmPFvbNTyCk"
      },
      "source": [
        "**¿Cómo hacer la copia de una carpeta?**\n",
        "\n",
        "Existe la posibilidad de que durante el curso cometamos errores y borremos datos valiosos. \n",
        "\n",
        "Haremos una copia de los datos de la carpeta Ejercicio 1 en la carpeta Ejercicio1-test\n",
        "\n",
        "Para esto usamos el modulo **shutil**\n",
        "\n",
        "El módulo shutil ofrece varias operaciones de alto nivel en archivos y colecciones de archivos. En particular, provee funciones que dan soporte a la copia y remoción de archivos."
      ]
    },
    {
      "cell_type": "code",
      "metadata": {
        "id": "eEEhSivyTuNI"
      },
      "source": [
        "import shutil"
      ],
      "execution_count": null,
      "outputs": []
    },
    {
      "cell_type": "code",
      "metadata": {
        "colab": {
          "base_uri": "https://localhost:8080/"
        },
        "id": "i9jABgHFVYlD",
        "outputId": "a9c946f3-405a-4261-bb04-16e9d816cc09"
      },
      "source": [
        "carpeta_origen = \"Ejercicio1/\"\n",
        "carpeta_destino = \"Ejercicio1_copy/\"\n",
        "directorio = \"/content/GoogleDrive/My Drive/PROJECTS/CCG_2021/CourseData\"\n",
        "\n",
        "#Crear la ruta a las carpetas\n",
        "path_origen = os.path.join(directorio, carpeta_origen)\n"
      ],
      "execution_count": null,
      "outputs": [
        {
          "output_type": "stream",
          "text": [
            "/content/GoogleDrive/My Drive/PROJECTS/CCG_2021/CourseData/Ejercicio1/\n",
            "/content/GoogleDrive/My Drive/PROJECTS/CCG_2021/CourseData/Ejercicio1_copy/\n"
          ],
          "name": "stdout"
        }
      ]
    },
    {
      "cell_type": "code",
      "metadata": {
        "colab": {
          "base_uri": "https://localhost:8080/",
          "height": 35
        },
        "id": "5XUU24VOUytl",
        "outputId": "b74457da-61f4-43e5-e4b3-82037a193f88"
      },
      "source": [
        "#Inicia el copiado\n"
      ],
      "execution_count": null,
      "outputs": [
        {
          "output_type": "execute_result",
          "data": {
            "application/vnd.google.colaboratory.intrinsic+json": {
              "type": "string"
            },
            "text/plain": [
              "'/content/GoogleDrive/My Drive/PROJECTS/CCG_2021/CourseData/Ejercicio1_copy/'"
            ]
          },
          "metadata": {
            "tags": []
          },
          "execution_count": 176
        }
      ]
    },
    {
      "cell_type": "code",
      "metadata": {
        "colab": {
          "base_uri": "https://localhost:8080/"
        },
        "id": "9_jZOnAMdyeb",
        "outputId": "e478ccad-604b-4616-bc7b-bd8c3043b1b4"
      },
      "source": [
        "#Evaluamos si hizo el copiado\n"
      ],
      "execution_count": null,
      "outputs": [
        {
          "output_type": "execute_result",
          "data": {
            "text/plain": [
              "True"
            ]
          },
          "metadata": {
            "tags": []
          },
          "execution_count": 177
        }
      ]
    },
    {
      "cell_type": "code",
      "metadata": {
        "id": "2rUBnVJPVr1Z",
        "colab": {
          "base_uri": "https://localhost:8080/"
        },
        "outputId": "e9425581-32bc-461e-87f8-93d19eca27bd"
      },
      "source": [
        "#Chequeamos el contenido de la carpeta copiada\n"
      ],
      "execution_count": null,
      "outputs": [
        {
          "output_type": "stream",
          "text": [
            "['Readme.rtf', 'Readme copy.rtf', 'Findme.tif', 'Findme1.tif', 'Findme2.tif', 'Rocas.png', 'Abreme']\n"
          ],
          "name": "stdout"
        }
      ]
    },
    {
      "cell_type": "markdown",
      "metadata": {
        "id": "1k0OH6ErvreM"
      },
      "source": [
        "---\n",
        "\n",
        "**Resumen**\n",
        "\n",
        "Para acceder desde Google Colab a nuestro datos necesitamos:\n",
        "\n",
        "1. Tenerlos almacenados en la nube de Google Drive\n",
        "2. Autenticar el ingreso a nuestro datos\n",
        "\n",
        "Para navegar y modificar nuestras carpetas usamos las funciones de la libraría **os**\n",
        "\n",
        "Para hacer copia de archivos y carpetas utilizamos el módulo **Shutil**\n",
        "\n",
        "---"
      ]
    },
    {
      "cell_type": "markdown",
      "metadata": {
        "id": "Yda2IjmdHsN6"
      },
      "source": [
        "**¿Cómo acceder a todos los datos dentro de una carpeta?**\n",
        "\n",
        "Vemos que nuestra carpeta tiene otra carpeta dentro (subdirectorio). Para listar todos los archivos dentro de la carpeta necesitamos entrar a las subcarpetas. Esto lo podemos hacer por medio de un *bucle* \n",
        "\n",
        "**Bucles**\n",
        "\n",
        "Los bucles son herramientas de programación que permiten alterar el flujo normal de un programa. Nos permiten repetir una porción del código tantas veces como queramos. \n",
        "\n",
        "Sintaxis:\n",
        "\n",
        "1. Palabra clave 'for'.\n",
        "2. Declarar la variable donde se alojarán los items del elemento iterable.\n",
        "3. Operador 'in'.\n",
        "4. Elemento a iterar (lista, directorio, cadena, etc).\n",
        "5. Cuerpo de la repetición - acción a realizar.\n",
        "\n",
        "Para crear una lista de directorios, carpetas y nombres de archivos usamos la función walk de la libreria os. "
      ]
    },
    {
      "cell_type": "code",
      "metadata": {
        "colab": {
          "base_uri": "https://localhost:8080/"
        },
        "id": "zZZwrFbxX7rQ",
        "outputId": "c7f09506-1450-40c9-ced0-b6f5bd5fb801"
      },
      "source": [
        "#Chequeamos que tiene la subcarpeta\n",
        "list = []\n",
        "for dirpath, dirnames, files in os.walk(cwd):\n",
        "  for name in files:\n",
        "    list.append(name)\n",
        "  \n",
        "print(list)"
      ],
      "execution_count": null,
      "outputs": [
        {
          "output_type": "stream",
          "text": [
            "['Antioquia_DEM.tif', 'Antioquia_DEM_G.tif', 'Antioquia_DEM_G.tif.aux.xml', 'Readme.rtf', 'Findme.tif', 'Readme copy.rtf', 'Findme1.tif', 'Findme2.tif', 'Readme.rtf', 'Findme.tif', 'Readme copy.rtf', 'Findme1.tif', 'Findme2.tif']\n"
          ],
          "name": "stdout"
        }
      ]
    },
    {
      "cell_type": "markdown",
      "metadata": {
        "id": "PxEHvj9-Voyr"
      },
      "source": [
        "**¿Cómo crear una lista con los archivos que contiene una extensión de interés?**\n",
        "\n",
        "De la lista de archivos queremos tener la lista de todos los .tif. Para esto usamos condicionales.\n",
        "\n",
        "*Condicionales*\n",
        " \n",
        "Los condicionales se usan para tomar decisiones.\n",
        "Consisten básicamente en las siguientes partes principales:\n",
        "\n",
        "- Una prueba que evalúa a verdadero o falso.\n",
        "- Un bloque de código que se ejecuta si la prueba es verdadero.\n",
        "- Un bloque opcional de código si la prueba es falsa.\n",
        "\n",
        "Sintaxis del if:\n",
        "\n",
        "1. Palabra clave 'if'\n",
        "2. Condición\n",
        "3. Acción\n",
        "4. Palabra clave 'else' (opcional)\n",
        "5. Otra acción\n"
      ]
    },
    {
      "cell_type": "code",
      "metadata": {
        "colab": {
          "base_uri": "https://localhost:8080/"
        },
        "id": "iBmMYgBcYLdi",
        "outputId": "96f6770f-7d3e-4dbe-c571-98efef6bce86"
      },
      "source": [
        "#¿Cómo buscar solo por los archivos con la misma extensión?\n"
      ],
      "execution_count": null,
      "outputs": [
        {
          "output_type": "stream",
          "text": [
            "The list of .tiff extensions in the directory and subdirectory are \n",
            "Antioquia_DEM.tif\n",
            "Antioquia_DEM_G.tif\n",
            "Findme.tif\n",
            "Findme1.tif\n",
            "Findme2.tif\n",
            "Findme.tif\n",
            "Findme.tif\n",
            "Me encontraste.tif\n"
          ],
          "name": "stdout"
        }
      ]
    },
    {
      "cell_type": "markdown",
      "metadata": {
        "id": "wk9dVsNgcSL1"
      },
      "source": [
        "Buscar archivos con la misma extensión es un procedimiento común. Para evitar escribir todo el codigo anterior, vamos a crear una función.\n",
        "\n",
        "**Funciones**\n",
        "\n",
        "Una funcion permite definir un bloque de código reutilizable que se puede ejecutar muchas veces dentro de un programa. \n",
        "\n",
        "Sintaxis:\n",
        "\n",
        "1. Palabra clave 'def'\n",
        "2. Nombre de la función - se recomienda que sea autoexplanatoria, escrita en letras minúsculas y si incluye muchas palabras separarlas con _ para mejorar claridad\n",
        "3. Paréntesis con parámetros de entrada\n",
        "4. Dos puntos\n",
        "5. Bloque de código a ejecutar\n",
        "6. Sentencia de retorno (opcional)"
      ]
    },
    {
      "cell_type": "code",
      "metadata": {
        "id": "AR7r7BN1Z1eL"
      },
      "source": [
        "def search_files(directory, extension):\n",
        "  list_tif = []\n",
        "  for dirpath, dirnames, files in os.walk(cwd):\n",
        "    for name in files:\n",
        "      if name[-3:] == extension:\n",
        "        list_tif.append(name)\n",
        "  return list_tif"
      ],
      "execution_count": null,
      "outputs": []
    },
    {
      "cell_type": "code",
      "metadata": {
        "colab": {
          "base_uri": "https://localhost:8080/"
        },
        "id": "JrLleYcdco54",
        "outputId": "7ab340d1-c490-48d3-96f3-1a317acca7d1"
      },
      "source": [
        ""
      ],
      "execution_count": null,
      "outputs": [
        {
          "output_type": "stream",
          "text": [
            "['Antioquia_DEM.tif', 'Antioquia_DEM_G.tif', 'Findme.tif', 'Findme1.tif', 'Findme2.tif', 'Findme.tif', 'Findme1.tif', 'Findme2.tif']\n"
          ],
          "name": "stdout"
        }
      ]
    },
    {
      "cell_type": "code",
      "metadata": {
        "colab": {
          "base_uri": "https://localhost:8080/"
        },
        "id": "HwxEV2b7ctQb",
        "outputId": "8921d5ac-02e8-4058-ea70-99e88cfe5463"
      },
      "source": [
        ""
      ],
      "execution_count": null,
      "outputs": [
        {
          "output_type": "stream",
          "text": [
            "['Readme.rtf', 'Readme copy.rtf', 'Readme.rtf', 'Readme copy.rtf']\n"
          ],
          "name": "stdout"
        }
      ]
    },
    {
      "cell_type": "markdown",
      "metadata": {
        "id": "L6iSisaFdRyo"
      },
      "source": [
        "**¿Cómo eliminar una carpeta?**\n",
        "\n",
        "Para terminar vamos a eliminar esa carpeta de ejercicio2 que no tiene información"
      ]
    },
    {
      "cell_type": "code",
      "metadata": {
        "id": "BZIwf1oZdCYx"
      },
      "source": [
        "os.removedirs(path)"
      ],
      "execution_count": null,
      "outputs": []
    },
    {
      "cell_type": "code",
      "metadata": {
        "colab": {
          "base_uri": "https://localhost:8080/"
        },
        "id": "yV2tITlRdfUk",
        "outputId": "f56d73f4-9582-411f-bca1-359af52d332f"
      },
      "source": [
        "#Chequemos "
      ],
      "execution_count": null,
      "outputs": [
        {
          "output_type": "stream",
          "text": [
            "['Antioquia_DEM.tif', 'Antioquia_DEM_G.tif', 'Antioquia_DEM_G.tif.aux.xml', 'Ejercicio1', 'Ejercicio1_copy']\n"
          ],
          "name": "stdout"
        }
      ]
    },
    {
      "cell_type": "markdown",
      "metadata": {
        "id": "ybZx6gIdXX99"
      },
      "source": [
        "---\n",
        "**Resumen**\n",
        "\n",
        "Los bucles se usan para repetir una acción. \n",
        "\n",
        "**for** variable **in** iterable: \n",
        "  accción\n",
        "\n",
        "Los condicionales nos sirven para tomar decisiones. \n",
        "\n",
        "**if** condicion: \n",
        "  acción 1 \n",
        "**elif**: \n",
        "  acción 2 \n",
        "**else**: \n",
        "  acción 3\n",
        "\n",
        "Las funciones nos sirven para repetir la misma linea de codigo en nuestro programa sin necesidad de escribir todo de nuevo. \n",
        "\n",
        "**def** mi_funcion(a,b):\n",
        "  c = a*b\n",
        "  return c\n",
        "\n",
        "Recordar la importancia de indentar en python\n",
        "\n",
        "---"
      ]
    },
    {
      "cell_type": "markdown",
      "metadata": {
        "id": "2EtOy_9QecHO"
      },
      "source": [
        "# RESUMEN DEL DIA 1-1\n",
        "\n",
        "Con este ejercicio ya sabes:\n",
        "\n",
        "* Cuales son los tipos de datos que se pueden usar en python y como usarlos\n",
        "\n",
        "* importar librerias, documentacion y funciones\n",
        "\n",
        "* Usar las librerias os y shutil para acceder, filtrar y buscar rutas y directorios\n",
        "\n",
        "* Usar bucles y condicionales\n",
        "\n",
        "* Crear funciones"
      ]
    }
  ]
}