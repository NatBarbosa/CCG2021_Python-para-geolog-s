{
  "nbformat": 4,
  "nbformat_minor": 0,
  "metadata": {
    "colab": {
      "name": "1_Conceptos basicos.ipynb",
      "provenance": [],
      "collapsed_sections": [],
      "authorship_tag": "ABX9TyNKAZy4tur1z1ahBCKoMaz/",
      "include_colab_link": true
    },
    "kernelspec": {
      "name": "python3",
      "display_name": "Python 3"
    },
    "language_info": {
      "name": "python"
    }
  },
  "cells": [
    {
      "cell_type": "markdown",
      "metadata": {
        "id": "view-in-github",
        "colab_type": "text"
      },
      "source": [
        "<a href=\"https://colab.research.google.com/github/NatBarbosa/CCG2021_Python-para-geolog-s/blob/main/1_Conceptos_basicos.ipynb\" target=\"_parent\"><img src=\"https://colab.research.google.com/assets/colab-badge.svg\" alt=\"Open In Colab\"/></a>"
      ]
    },
    {
      "cell_type": "markdown",
      "metadata": {
        "id": "iM6YpaSgpKfl"
      },
      "source": [
        "# CONCEPTOS BASICOS \n",
        "\n",
        "## Jupyter notebook\n",
        "\n",
        "Colab es un adaptación de un entorno de 'Jupyter notebook' hecha por google. Los codigos y los cuadernos son ejecutados y almacenados en la nube google drive.\n",
        "\n",
        "Jupyter notebook es una interfaz interactiva de programación en forma de cuaderno. Permite mezclar texto y codigo en el mismo documento. Esto es muy util para aprender a programar, analizar resultados y garantizar reproducibilidad de estudios cientificos. \n",
        "\n",
        "## Python \n",
        "\n",
        "Python es un lenguaje de programación que es cada vez más usado en la ciencia y en la industria debido a su legibilidad de código. Se trata de un lenguaje de programación orientado a objetos.\n"
      ]
    },
    {
      "cell_type": "code",
      "metadata": {
        "id": "CudL1RHdm4-l",
        "colab": {
          "base_uri": "https://localhost:8080/"
        },
        "outputId": "ebdce85f-823f-47a0-9e1a-9a9398309590"
      },
      "source": [
        "print('Hola querido mundo de la programación')"
      ],
      "execution_count": 29,
      "outputs": [
        {
          "output_type": "stream",
          "text": [
            "Hola querido mundo de la programación\n"
          ],
          "name": "stdout"
        }
      ]
    },
    {
      "cell_type": "code",
      "metadata": {
        "colab": {
          "base_uri": "https://localhost:8080/"
        },
        "id": "4WF6AFh5_qfe",
        "outputId": "5d1be77d-2af3-4a0f-b023-ec9e8bf96baa"
      },
      "source": [
        "# Tipos de datos - asignar variables \n",
        "numero = 1\n",
        "actividad = 'corte geológico de la ladera occidental del valle de Aburra'\n",
        "ngrupos = 1\n",
        "\n",
        "#Concatenar variables \n",
        "print('Actividad número ' + str(numero) + ' ' + actividad + ' a relizar en grupos de a ' + str(ngrupos))"
      ],
      "execution_count": 37,
      "outputs": [
        {
          "output_type": "stream",
          "text": [
            "Actividad número 1 corte geológico de la ladera occidental del valle de Aburra a relizar en grupos de a 1\n"
          ],
          "name": "stdout"
        }
      ]
    },
    {
      "cell_type": "markdown",
      "metadata": {
        "id": "XurYnuIVHUQz"
      },
      "source": [
        "<img src=\"https://drive.google.com/uc?export=view&id=1gCTaLd7GJRt85idupWjYIRhVxFvW9Kpw\" width=800 />\n"
      ]
    },
    {
      "cell_type": "code",
      "metadata": {
        "colab": {
          "base_uri": "https://localhost:8080/"
        },
        "id": "WMe99O39A8IY",
        "outputId": "9008fda1-29ec-4784-a68f-73b829fa64d9"
      },
      "source": [
        "# lista de caracteristicas de rocas colectadas en campo en un corte W-E a lo largo de la coordenada 116500\n",
        "unidades = ('Complejo Cajamarca', 'Granofeels de Normandía' , 'Migmatitas de Puente Pelaez', 'Deposito Aluvial', 'Sedimentitas de la Fe',  'Neis de la Ceja', 'Depositos de Vertiente', 'Anfibolita de Medellin', 'Batoito Antioqueño')\n",
        "print('Las unidades geologicas en el corte son: ')\n",
        "print(unidades)"
      ],
      "execution_count": 61,
      "outputs": [
        {
          "output_type": "stream",
          "text": [
            "Las unidades geologicas en el corte son: \n",
            "('Complejo Cajamarca', 'Granofeels de Normandía', 'Migmatitas de Puente Pelaez', 'Deposito Aluvial', 'Sedimentitas de la Fe', 'Neis de la Ceja', 'Depositos de Vertiente', 'Anfibolita de Medellin', 'Batoito Antioqueño')\n"
          ],
          "name": "stdout"
        }
      ]
    },
    {
      "cell_type": "markdown",
      "metadata": {
        "id": "Zy-FVStLKelm"
      },
      "source": [
        "\n",
        "\n",
        "---\n",
        "\n",
        "### PREGUNTA 1:\n",
        "\n",
        "Las unidades geológicas las hemos almacenado en un tipo de dato *tupla*. \n",
        "Cuales son las implicaciones de esta decisión?\n",
        "\n",
        "Para responder esta pregunta intenta:\n",
        "\n",
        "1. Asignar las unidades en formato listaa\n",
        "2. Modificar las variables y comparar el comportamiento\n",
        "Para modificar el contenido puedes buscar el indice de la unidad que quieres modificar y re-asignarle un nuevo valor\n",
        "\n",
        "\n",
        "\n",
        "---\n",
        "\n",
        "\n"
      ]
    },
    {
      "cell_type": "markdown",
      "metadata": {
        "id": "3JLgIU3E5AQg"
      },
      "source": [
        "# Ejercicio 1\n",
        "\n",
        "De cada una de las unidades geológicas se tiene información adicional consignada de manera puntual en el siguiente orden:\n",
        "* Unidad\n",
        "* Tipo de Roca\n",
        "* Roca predominante\n",
        "* Edad\n",
        "\n"
      ]
    },
    {
      "cell_type": "code",
      "metadata": {
        "id": "QhekcbjsPegg"
      },
      "source": [
        "#DATOS\n",
        "q2al = ['Deposito Aluvial', 'Sedimentaria', 'Depositos de llanura de inundación', 'Cuaternario']\n",
        "q2v = ['Deposito de vertiente', 'Sedimentaria', 'Flujos de escombros, de talus, tierra y rocas', 'Cuaternario']\n",
        "n2q1lf = ['Sedimentitas de la fe', 'Sedimentaria', 'Secuencias poco sedimentadas de lodolitas y areniscas', 'Neogeno']\n",
        "k2ta = ['Batolito antioqueño', 'Ignea', 'Tonalita, granodiorita', 'Cretácico Superior']\n",
        "pzeanc = ['Complejo Cajamarca', 'Metamorfica', 'Esquistos', 'Cambrico']\n",
        "prgn = ['Granofels de Normandia', 'Metamorfica', 'Granitoide con micas', 'Precambrico']\n",
        "prmpp = ['Migmatitas de Puente Pelaez', 'Metamorfica', 'Neises y granofels', 'Precambrico']\n",
        "prnlc = ['Neis de la Ceja', 'Metamorfica', 'Neises y granofels bandeados', 'Precambrico']\n",
        "pram = ['Anfibolitas de Medellin', 'Metamorfica', 'Anfribolitas', 'Precambrico']"
      ],
      "execution_count": 78,
      "outputs": []
    },
    {
      "cell_type": "markdown",
      "metadata": {
        "id": "k-t3o5h5h2HW"
      },
      "source": [
        "Use bucles para extraer los diferentes tipos de roca y sus edades\n",
        "\n",
        "Sugerencias:\n",
        "1. Toma papel y lapiz y piensa como lo harias manualmente\n",
        "2. Cuando tengas clara una metodología, intenta pensar como lo harías en pseudo-codigo\n",
        "3. Ahora si, piensa como lo harías en python"
      ]
    },
    {
      "cell_type": "code",
      "metadata": {
        "id": "-nd1l97WUQxM"
      },
      "source": [
        "#Tu idea \n",
        "\n"
      ],
      "execution_count": 84,
      "outputs": []
    },
    {
      "cell_type": "markdown",
      "metadata": {
        "id": "dLIz_7_SbDut"
      },
      "source": [
        "## FUNCIONES DE PYTHON\n",
        "\n",
        "Función **zip()** que nos permite unir dos o mas listas"
      ]
    },
    {
      "cell_type": "code",
      "metadata": {
        "colab": {
          "base_uri": "https://localhost:8080/"
        },
        "id": "ueUNU41RPt6q",
        "outputId": "0f9645a2-91d2-4cf0-d868-767d61f8a297"
      },
      "source": [
        "#SOLUCION \n",
        "\n",
        "#juntar todas las observaciones usando la funcion zip\n",
        "corte1 = list(zip(q2al, q2v, n2q1lf, k2ta, pzeanc, prgn, prmpp, prnlc,pram  ))\n",
        "print('Rocas en el corte E-W' + str(corte1[1]))\n",
        "print('Edad de las rocas en el corte E-W' + str(corte1[-1]))\n"
      ],
      "execution_count": 102,
      "outputs": [
        {
          "output_type": "stream",
          "text": [
            "Rocas en el corte E-W('Sedimentaria', 'Sedimentaria', 'Sedimentaria', 'Ignea', 'Metamorfica', 'Metamorfica', 'Metamorfica', 'Metamorfica', 'Metamorfica')\n",
            "Edad de las rocas en el corte E-W('Cuaternario', 'Cuaternario', 'Neogeno', 'Cretácico Superior', 'Cambrico', 'Precambrico', 'Precambrico', 'Precambrico', 'Precambrico')\n"
          ],
          "name": "stdout"
        }
      ]
    },
    {
      "cell_type": "code",
      "metadata": {
        "colab": {
          "base_uri": "https://localhost:8080/"
        },
        "id": "wbINGlneaNzC",
        "outputId": "4e5d280f-a8e9-4324-e284-c0e3f6a2c0c6"
      },
      "source": [
        ""
      ],
      "execution_count": 74,
      "outputs": [
        {
          "output_type": "stream",
          "text": [
            "range(0, 4)\n"
          ],
          "name": "stdout"
        }
      ]
    },
    {
      "cell_type": "code",
      "metadata": {
        "id": "uPEVHOXNbYVg"
      },
      "source": [
        ""
      ],
      "execution_count": null,
      "outputs": []
    }
  ]
}