{
  "nbformat": 4,
  "nbformat_minor": 0,
  "metadata": {
    "colab": {
      "name": "1_Conceptos basicos.ipynb",
      "provenance": [],
      "collapsed_sections": [],
      "authorship_tag": "ABX9TyOzczjwwrvtAmr0CkixO5xg",
      "include_colab_link": true
    },
    "kernelspec": {
      "name": "python3",
      "display_name": "Python 3"
    },
    "language_info": {
      "name": "python"
    }
  },
  "cells": [
    {
      "cell_type": "markdown",
      "metadata": {
        "id": "view-in-github",
        "colab_type": "text"
      },
      "source": [
        "<a href=\"https://colab.research.google.com/github/NatBarbosa/CCG2021_Python-para-geolog-s/blob/main/1_Conceptos_basicos.ipynb\" target=\"_parent\"><img src=\"https://colab.research.google.com/assets/colab-badge.svg\" alt=\"Open In Colab\"/></a>"
      ]
    },
    {
      "cell_type": "markdown",
      "metadata": {
        "id": "iM6YpaSgpKfl"
      },
      "source": [
        "# CONCEPTOS BASICOS \n",
        "\n",
        "## Jupyter notebook\n",
        "\n",
        "Colab es un adaptación de un entorno de 'Jupyter notebook' hecha por google. Los codigos y los cuadernos son ejecutados y almacenados en la nube google drive.\n",
        "\n",
        "Jupyter notebook es una interfaz interactiva de programación en forma de cuaderno. Permite mezclar texto y codigo en el mismo documento. Esto es muy util para aprender a programar, analizar resultados y garantizar reproducibilidad de estudios cientificos. \n",
        "\n",
        "## Python \n",
        "\n",
        "Python es un lenguaje de programación que es cada vez más usado en la ciencia y en la industria debido a su legibilidad de código. Se trata de un lenguaje de programación orientado a objetos principalmente. \n",
        "\n",
        "\n",
        "\n",
        "\n",
        "\n"
      ]
    },
    {
      "cell_type": "code",
      "metadata": {
        "id": "CudL1RHdm4-l"
      },
      "source": [
        ""
      ],
      "execution_count": null,
      "outputs": []
    }
  ]
}