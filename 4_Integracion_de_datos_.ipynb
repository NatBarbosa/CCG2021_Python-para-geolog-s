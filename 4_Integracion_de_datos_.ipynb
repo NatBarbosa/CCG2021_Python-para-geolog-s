{
  "nbformat": 4,
  "nbformat_minor": 0,
  "metadata": {
    "colab": {
      "name": "4. Integracion de datos .ipynb",
      "provenance": [],
      "collapsed_sections": [],
      "include_colab_link": true
    },
    "kernelspec": {
      "name": "python3",
      "display_name": "Python 3"
    },
    "language_info": {
      "name": "python"
    }
  },
  "cells": [
    {
      "cell_type": "markdown",
      "metadata": {
        "id": "view-in-github",
        "colab_type": "text"
      },
      "source": [
        "<a href=\"https://colab.research.google.com/github/NatBarbosa/CCG2021_Python-para-geolog-s/blob/main/4_Integracion_de_datos_.ipynb\" target=\"_parent\"><img src=\"https://colab.research.google.com/assets/colab-badge.svg\" alt=\"Open In Colab\"/></a>"
      ]
    },
    {
      "cell_type": "markdown",
      "metadata": {
        "id": "ZV8YnkYyKhAS"
      },
      "source": [
        "# 0. LIBRERÍAS\n",
        "\n",
        "Las librerías para integrar datos raster y vectoriales incluyen:\n",
        "\n",
        "1. Las previamente usadas para la manipulación de datos raster\n",
        "\n",
        "Numpy -- https://numpy.org/\n",
        "\n",
        "Matplotlib -- https://matplotlib.org/\n",
        "\n",
        "Gdal -- https://gdal.org/\n",
        "\n",
        "Rasterio -- https://rasterio.readthedocs.io/en/latest/intro.html#\n",
        "\n",
        "Glob -- https://docs.python.org/3/library/glob.html\n",
        "\n",
        "2. Libreías diseñadas para la manipulaciónn de datos vectoriales \n",
        "\n",
        "Geopandas - lectura y manipulación de datos vectoriales -- https://geopandas.org/\n",
        "\n",
        "shapely - https://shapely.readthedocs.io/en/stable/manual.html\n",
        "\n",
        "Geopandas no está previamente instalada en collab."
      ]
    },
    {
      "cell_type": "code",
      "metadata": {
        "id": "j6_Ri01fJMU-"
      },
      "source": [
        "%pip install rasterio\n",
        "%pip install geopandas"
      ],
      "execution_count": null,
      "outputs": []
    },
    {
      "cell_type": "code",
      "metadata": {
        "id": "VbEGI4a1KmSj"
      },
      "source": [
        "# Importar todas las librerias\n",
        "import numpy as np\n",
        "import rasterio\n",
        "import os\n",
        "# Read data from google drive\n",
        "from google.colab import drive\n",
        "import copy\n",
        "import glob\n",
        "from matplotlib import pyplot as plt\n",
        "from osgeo import gdal"
      ],
      "execution_count": null,
      "outputs": []
    },
    {
      "cell_type": "code",
      "metadata": {
        "id": "ioKFUn6qKoUy"
      },
      "source": [
        "#Mount your drive to conect with Colab\n",
        "drive.mount('/content/drive')"
      ],
      "execution_count": null,
      "outputs": []
    },
    {
      "cell_type": "code",
      "metadata": {
        "id": "eFxJ4o9uKrwr"
      },
      "source": [
        "#Directorio inicial\n"
      ],
      "execution_count": null,
      "outputs": []
    },
    {
      "cell_type": "markdown",
      "metadata": {
        "id": "rh4XENLgxPv_"
      },
      "source": [
        "# 1. LEER EL DEM "
      ]
    },
    {
      "cell_type": "code",
      "metadata": {
        "id": "dKXWt00gK8Z5"
      },
      "source": [
        "#Encontrar el DEM localizado en la subcarpeta Dia1/Ejercicio2\n",
        "os.chdir(\"/content/drive/MyDrive/PROJECTS/CCG_2021/CourseData/Dia1/Ejercicio2/\")\n",
        "print(os.listdir(cwd))\n",
        "cwd = os.getcwd()\n",
        "print(\"Current working directory: \", cwd)"
      ],
      "execution_count": null,
      "outputs": []
    },
    {
      "cell_type": "code",
      "metadata": {
        "id": "9kRI3_mHK8mt"
      },
      "source": [
        "#Crear la ruta al DEM\n",
        "dem_path = os.path.join(cwd, 'AP_20744_FBS_F0060_RT1.dem.tif')\n",
        "\n",
        "#abrir el archivo con rasterio\n",
        "dem_open = rasterio.open(dem_path)"
      ],
      "execution_count": null,
      "outputs": []
    },
    {
      "cell_type": "code",
      "metadata": {
        "id": "zmX3qd_hK9-g"
      },
      "source": [
        "#leerlo como array\n",
        "dem_array = dem_open.read()\n",
        "print(f'Forma del areglo original {dem_array.shape}')\n",
        "#reshape\n",
        "dem_array = dem_array.reshape(dem_array.shape[1], dem_array.shape[2])\n",
        "print(f'Forma del areglo modificada {dem_array.shape}')\n"
      ],
      "execution_count": null,
      "outputs": []
    },
    {
      "cell_type": "markdown",
      "metadata": {
        "id": "-ywnmfM-LCHw"
      },
      "source": [
        "# 2. LEER LOS DATOS VECTORIALES\n",
        "\n",
        "Para leer los datos en vector usamos otra librería llamada *Geopandas*\n",
        "\n",
        "A diferencia de los datos raster, los datos vectoriales estan estructurados como coordenadas geograficas en el espacio. \n",
        "\n",
        "* Punto = única coordenada (x,y)\n",
        "* Línea = distancia entre dos puntos\n",
        "* Polígono = líneas que unen muchos puntos"
      ]
    },
    {
      "cell_type": "code",
      "metadata": {
        "id": "iowu8yl3LAvM"
      },
      "source": [
        "import geopandas as gpd"
      ],
      "execution_count": null,
      "outputs": []
    },
    {
      "cell_type": "code",
      "metadata": {
        "id": "lhzobz0nsc7e"
      },
      "source": [
        "#Encontrar los datos\n",
        "directory = '/content/drive/MyDrive/PROJECTS/CCG_2021/CourseData/Dia2/Ejercicio_shapes/'\n",
        "paths = glob.glob('/content/drive/MyDrive/PROJECTS/CCG_2021/CourseData/Dia2/Ejercicio_shapes/*.shp')\n",
        "print(paths)"
      ],
      "execution_count": null,
      "outputs": []
    },
    {
      "cell_type": "code",
      "metadata": {
        "id": "QA7VYrrisWxq"
      },
      "source": [
        "#Leer rios"
      ],
      "execution_count": null,
      "outputs": []
    },
    {
      "cell_type": "code",
      "metadata": {
        "id": "dyaYO4dCDGtj"
      },
      "source": [
        "#Leer cuencas"
      ],
      "execution_count": null,
      "outputs": []
    },
    {
      "cell_type": "markdown",
      "metadata": {
        "id": "xSpj_HkZvH2B"
      },
      "source": [
        "Geopandas lee la información consignada en un shapefile como una tabla de atributos. Esto se conoce como un 'dataframe'. El dataframe tiene nombres en las columnas que nos sirven para manípular la información contenida de una manera muy similar a una tabla de excel.\n",
        "\n",
        "Geopandas tiene una función de ploteo integrada que se puede acceder mediante notación punto. \n",
        "\n",
        "La visualización de los datos se puede modificar usando atributos del dataframe. "
      ]
    },
    {
      "cell_type": "code",
      "metadata": {
        "id": "u7Ed85OMvhkG"
      },
      "source": [
        "#Visualizar los rios usando la columna Strahler como atributo\n",
        "fig = plt.figure(figsize=(25,6))\n",
        "ax1 = plt.subplot(131)\n",
        "\n",
        "plt.title('Rios visualizados por su orden de Strahler')\n",
        "\n",
        "# visualizar las cuencas\n",
        "ax2 = plt.subplot(132)\n",
        "\n",
        "plt.title('Cuencas de rios de Strahler orden 3 ')\n",
        "\n",
        "# visualizar las cuencas\n",
        "ax3 = plt.subplot(133)\n",
        "\n",
        "plt.title('Cuencas de rios de Strahler orden 4 ')\n",
        "\n",
        "plt.show()\n"
      ],
      "execution_count": null,
      "outputs": []
    },
    {
      "cell_type": "markdown",
      "metadata": {
        "id": "dVmjkz-bMf2P"
      },
      "source": [
        "---\n",
        "Recap\n",
        "\n",
        "* Para leer datos tipo vector usamos una librería llamada geopandas que lee la tabla de atributos del vector donde esta contenida la información geográfica\n",
        "\n",
        "* La información geográfica de los puntos que conforman el polígono es usada para visualizar el shapefile\n",
        "\n",
        "* Se pueden visualizar los diferentes atributos del shapefile cambiando la colummna de visualización en los parámetros de entrada del método de ploteo\n",
        "\n",
        "---"
      ]
    },
    {
      "cell_type": "markdown",
      "metadata": {
        "id": "VYB-sbL9xU52"
      },
      "source": [
        "# 3. COMBINAR DATOS FORMATO RASTER CON DATOS VECTORIALES\n",
        "\n",
        "Esto no es una operación directa porque la manera de trabajar datos raster y vectores es muy diferentes. Los raster se almacenan como matrices geográficamente localizadas por un borde (xmin, xmax, ymin, ymax). Los vectores, en cambio, son almacenados como geometrías que contienen multiples coordenadas. \n",
        "\n",
        "## 3.1. Información geográfica del raster\n",
        "\n",
        "Para visualizar los dos tipos de datos en un mismo plot tenemos que extraer la geotransformada. La geotransformada es la definición espacial de un raster. Corresponde a un vector de 6 coefficientes. \n",
        "\n",
        "* GT(0) x-coordinate of the upper-left corner of the upper-left pixel.\n",
        "* GT(1) w-e pixel resolution / pixel width.\n",
        "* GT(2) row rotation (typically zero).\n",
        "* GT(3) y-coordinate of the upper-left corner of the upper-left pixel.\n",
        "* GT(4) column rotation (typically zero).\n",
        "* GT(5) n-s pixel resolution / pixel height (negative value for a north-up image)."
      ]
    },
    {
      "cell_type": "code",
      "metadata": {
        "colab": {
          "base_uri": "https://localhost:8080/"
        },
        "id": "ijOSiTh6ycUu",
        "outputId": "6a00e96e-1418-40fb-af34-2ca0cc16bec8"
      },
      "source": [
        "#Extraer coordenadas del DEM - geotransform\n",
        "\n"
      ],
      "execution_count": null,
      "outputs": [
        {
          "output_type": "stream",
          "text": [
            "[466894.1875, 12.5, 0.0, 467255.25, 0.0, -12.5]\n"
          ],
          "name": "stdout"
        }
      ]
    },
    {
      "cell_type": "markdown",
      "metadata": {
        "id": "Fc4viwWCgMJD"
      },
      "source": [
        "$$ Extent = (xmin, xmax, ymin, ymin)$$"
      ]
    },
    {
      "cell_type": "code",
      "metadata": {
        "colab": {
          "base_uri": "https://localhost:8080/"
        },
        "id": "XlygcICO4EXD",
        "outputId": "cac76eb7-fe5c-44ce-b61d-99c487250945"
      },
      "source": [
        "#Necesitamos el xmin, xmax = xmin + ncols*pixels size, ymin, ymax= ymin+ nrows*pixels size"
      ],
      "execution_count": null,
      "outputs": [
        {
          "output_type": "stream",
          "text": [
            "(466894.1875, 549131.6875, 395605.25, 467255.25)\n"
          ],
          "name": "stdout"
        }
      ]
    },
    {
      "cell_type": "markdown",
      "metadata": {
        "id": "76gginwB2MZc"
      },
      "source": [
        "## 3.2. Plotear juntos usando Matplotlib\n",
        "\n",
        "Existen muchas librerías diseñadas en plotear vector y raster juntos. En este curso intentamos usar las librerías base para tener mayor libertad de procesamiento y ajustes a nuestras necesidades. \n",
        "\n",
        "Para plotear el raster usando su información geográfica definimos el extent\n"
      ]
    },
    {
      "cell_type": "code",
      "metadata": {
        "id": "RQx-4dQR3HAA"
      },
      "source": [
        "fig = plt.figure(figsize = (12, 8))\n",
        "ax1 = plt.subplot(111)\n",
        "\n",
        "\n",
        "\n",
        "plt.colorbar(img)\n",
        "plt.show()"
      ],
      "execution_count": null,
      "outputs": []
    },
    {
      "cell_type": "markdown",
      "metadata": {
        "id": "SmONTiyEpDMS"
      },
      "source": [
        "---\n",
        "\n",
        "Recap\n",
        "\n",
        "* Para combinar información en formato raster y vectorial necesitamos entender con claridad los parametros cartográficos y geográficos de nuetros datos. \n",
        "\n",
        "* La información geográfica del raster esta consignada en la geotransformada\n",
        "\n",
        "* La información geográfica del vector esta consignada como coordenadas X,Y en una tabla de atributos \n",
        "\n",
        "\n",
        "---"
      ]
    },
    {
      "cell_type": "markdown",
      "metadata": {
        "id": "Eo7wHpm0JFre"
      },
      "source": [
        "# 4. EXTRAER INFORMACIÓN DEL RASTER USANDO UN ÁREA DEFINIDA POR UN VECTOR \n",
        "\n",
        "Para extraer la información por cuenca, el procedimiento es el siguiente:\n",
        "\n",
        "1. Extraer la geometría de cada una de las cuencas\n",
        "2. Extraer los valores del raster dentro de la geometría del polígono de la cuenca maskeando los valores del raster que no corresponden con el polígono\n",
        "\n"
      ]
    },
    {
      "cell_type": "code",
      "metadata": {
        "id": "gDqttVYT2ZOE"
      },
      "source": [
        "#Geometria de todas las cuencas\n"
      ],
      "execution_count": null,
      "outputs": []
    },
    {
      "cell_type": "code",
      "metadata": {
        "id": "2yumBACdJhr0"
      },
      "source": [
        "#Geometria de la primera cuenca\n"
      ],
      "execution_count": null,
      "outputs": []
    },
    {
      "cell_type": "markdown",
      "metadata": {
        "id": "5vMghslLJ1vL"
      },
      "source": [
        "**shapely** es una librería diseñada para el procesamiento de datos vector y nos permite mapear el polígono en el raster. Shapely usa un formato de intercambio de datos llamado JSON (JavaScript Object Notation). JSON es un formato de texto completamente independiente de lenguaje y es muy usado en el procesamiento de información geográfica tipo vector."
      ]
    },
    {
      "cell_type": "code",
      "metadata": {
        "id": "dfGnGBHMJr0C"
      },
      "source": [
        "from shapely.geometry import mapping\n",
        "from rasterio.mask import mask"
      ],
      "execution_count": null,
      "outputs": []
    },
    {
      "cell_type": "code",
      "metadata": {
        "id": "bRopAjHyJ_4n"
      },
      "source": [
        "#Transformar las coordenadas a JSON\n",
        "\n"
      ],
      "execution_count": null,
      "outputs": []
    },
    {
      "cell_type": "code",
      "metadata": {
        "id": "uCU7dnf5KBJg"
      },
      "source": [
        "#Crear una mascara para los valores del DEM que no pertenecen al poligono\n"
      ],
      "execution_count": null,
      "outputs": []
    },
    {
      "cell_type": "code",
      "metadata": {
        "id": "RgYBnt2qK2Qz"
      },
      "source": [
        "#Plotear los valores de elevacion en la cuenca 1\n",
        "plt.imshow(cuenca1.reshape(cuenca1.shape[1], cuenca1.shape[2]))\n",
        "plt.colorbar()"
      ],
      "execution_count": null,
      "outputs": []
    },
    {
      "cell_type": "code",
      "metadata": {
        "colab": {
          "base_uri": "https://localhost:8080/"
        },
        "id": "cqXFpb5RK71R",
        "outputId": "2ba586ef-46a3-4059-de62-2a59fb62cc2b"
      },
      "source": [
        "#Extraer alturas del raster enmascarado! \n"
      ],
      "execution_count": null,
      "outputs": [
        {
          "output_type": "stream",
          "text": [
            "Las elevaciones de la cuenca son: [ 318  318  318 ... 1405 1428 1446]\n"
          ],
          "name": "stdout"
        }
      ]
    },
    {
      "cell_type": "code",
      "metadata": {
        "id": "2uaAT2xYNLeq"
      },
      "source": [
        "#Cual es esta cuenca?\n",
        "fig = plt.figure(figsize = (12, 8))\n",
        "ax1 = plt.subplot(111)\n",
        "img = plt.imshow(dem_array, extent=extent, origin='upper', cmap = 'gist_earth')\n",
        "basins_strahler3.plot(ax=ax1, column='basin_id', edgecolor='white', cmap = 'jet', legend = True)\n",
        "#plt.colorbar(img)\n",
        "plt.show()"
      ],
      "execution_count": null,
      "outputs": []
    },
    {
      "cell_type": "markdown",
      "metadata": {
        "id": "JaUN6t0JMb_p"
      },
      "source": [
        "---\n",
        "Recap\n",
        "\n",
        "* Para extraer la información del raster contenida en una geometría determinada hacemos una máscara de los valores que  se intersectan con la geometría de interés.\n",
        "\n",
        "---"
      ]
    },
    {
      "cell_type": "markdown",
      "metadata": {
        "id": "7wN2wgGvOm1o"
      },
      "source": [
        "#5.  EJEMPLO - CÁLCULO DE VARIABLES MORFOMÉTRICAS DE LA CUENCA \n",
        "\n",
        "De manera rápida, vamos a caracterizar esta cuenca usando las elevaciones del DEM. \n",
        "\n",
        "\n",
        "\n",
        "\n",
        "\n",
        "\n",
        "\n"
      ]
    },
    {
      "cell_type": "code",
      "metadata": {
        "id": "6aNTzmGRXao5"
      },
      "source": [
        "#Calcular informacion estadistica sobre la cuenca \n",
        "h_min = \n",
        "h_max = \n",
        "basin_area = \n",
        "h_promedio = \n"
      ],
      "execution_count": null,
      "outputs": []
    },
    {
      "cell_type": "code",
      "metadata": {
        "colab": {
          "base_uri": "https://localhost:8080/"
        },
        "id": "JrSIdFyLZpTY",
        "outputId": "0489ed8e-a2e3-4fbc-c0b2-95b27e4d3237"
      },
      "source": [
        "print(f'elevacion minima de la cuenca: {h_min}')\n",
        "print(f'elevacion minima de la cuenca: {h_max}')\n",
        "print(f'Area de la cuenca: {basin_area/1000000} en km2')\n",
        "print(f'Elevacion promedio de la cuenca: {h_promedio} m.s.n.m')"
      ],
      "execution_count": null,
      "outputs": [
        {
          "output_type": "stream",
          "text": [
            "elevacion minima de la cuenca: 316\n",
            "elevacion minima de la cuenca: 1492\n",
            "Area de la cuenca: 97.36140625 en km2\n",
            "Elevacion promedio de la cuenca: 780.1337092951038 m.s.n.m\n"
          ],
          "name": "stdout"
        }
      ]
    },
    {
      "cell_type": "markdown",
      "metadata": {
        "id": "8PxhbRNHZnWy"
      },
      "source": [
        "## 5.1. Frecuencias altimétricas\n",
        "\n",
        "Las frecuencias altimétricas se usan para describir, en altitudes sucesivas, las frecuencias de ciertos niveles de elevaciones.\n",
        "\n"
      ]
    },
    {
      "cell_type": "code",
      "metadata": {
        "id": "fyrM4YMrUK6h"
      },
      "source": [
        "#1. Crear un array igualmente espaciado de alturas entre la minima y la maxima en la cuenca\n",
        "h_range = "
      ],
      "execution_count": null,
      "outputs": []
    },
    {
      "cell_type": "code",
      "metadata": {
        "id": "-K8w42IkpQ4x"
      },
      "source": [
        "#Plotear frecuencias altimetricas\n",
        "fig= plt.figure()\n",
        "ax1 = plt.subplot(111)\n",
        "ax1.hist(cuenca1_elevacion, bins = h_range )\n",
        "ax1.set_xlabel('Area: a/A')\n",
        "ax1.set_ylabel('Elevacion: h/H')\n"
      ],
      "execution_count": null,
      "outputs": []
    },
    {
      "cell_type": "markdown",
      "metadata": {
        "id": "FrbHaLhFm0RJ"
      },
      "source": [
        "## 5.2. Curva Hipsométrica\n",
        "\n",
        "La curva hipsométrica (Strahler 1952) permite conocer la distribucién de masa en la cuenca desde arriba hacia abajo. Se obtiene calculando:\n",
        "* x como las diferentes alturas alturas de la cuenca referidos a la máxima altura de la misma\n",
        "* y como los valores de area que se encuentran por encima de las alturas correspondientes, referidos al área total de cuenca. \n",
        "\n",
        "De esta forma se utilizan valorse relativos (porcentuales) lo que hace posible comparar curvas de diferentes cuencas.\n",
        "\n",
        "<img src=\"https://drive.google.com/uc?export=view&id=1okz5ELENyC8cieaAHupZvgBfhN7AJOO2\"  width=200 />\n",
        "\n",
        "\n"
      ]
    },
    {
      "cell_type": "code",
      "metadata": {
        "id": "aXV_LSfBpLgq"
      },
      "source": [
        "#2. Calcular el area entre cada intervalo\n",
        "#Lista vacia para llenar con el area por encima de una altura definida\n"
      ],
      "execution_count": null,
      "outputs": []
    },
    {
      "cell_type": "code",
      "metadata": {
        "id": "4J0-D6nVbKyj"
      },
      "source": [
        "#Normalizar las elevaciones a la maxima elevacion\n"
      ],
      "execution_count": null,
      "outputs": []
    },
    {
      "cell_type": "code",
      "metadata": {
        "id": "hJzcKoCdVPbu"
      },
      "source": [
        "#Curva hpsometrica\n",
        "fig= plt.figure(figsize=(15,6))\n",
        "ax1 = plt.subplot(121)\n",
        "\n",
        "ax1.plot(           )\n",
        "\n",
        "\n",
        "ax1.set_xlabel('Area: a/A')\n",
        "ax1.set_ylabel('Elevacion: h/H')\n",
        "\n",
        "#Plot altitudes\n",
        "ax2 = ax1.twinx()\n",
        "ax2.plot(x, h_range)\n",
        "ax2.set_ylabel('Altura en m.s.n.m')\n",
        "\n",
        "ax3 = plt.subplot(122)\n",
        "ax3.hist(cuenca1_elevacion, bins = h_range, orientation='horizontal', alpha=0.2)\n",
        "\n",
        "plt.show()"
      ],
      "execution_count": null,
      "outputs": []
    },
    {
      "cell_type": "markdown",
      "metadata": {
        "id": "3R86Ju9eq5MG"
      },
      "source": [
        "## 5.3. Elevación media\n",
        "\n",
        "La elevación media se determina con base en la curva hipsométrica. La elevación media de la cuenca es el equivalente al 50% del area de la cuenca. La altura media es la elevación promedio referida al nivel de la estación de aforo de la boca de cuenca. "
      ]
    },
    {
      "cell_type": "code",
      "metadata": {
        "id": "sSKpb_oWr9_R"
      },
      "source": [
        "#Identificar el valor aproximado del 50% en x\n"
      ],
      "execution_count": null,
      "outputs": []
    },
    {
      "cell_type": "code",
      "metadata": {
        "id": "J4e24-htrtMW"
      },
      "source": [
        "#Obtener el valor de elevacion al punto x con aproximado al 50% del area de la cuenca\n",
        "elevacion_media = \n",
        "print(f'La elevacion media de la cuenca es {elevacion_media}')"
      ],
      "execution_count": null,
      "outputs": []
    },
    {
      "cell_type": "markdown",
      "metadata": {
        "id": "qZ3s9S6ixXS8"
      },
      "source": [
        "## 5.4. Indices Hipsométrico\n",
        "\n",
        "El índice hipsométrico se calcula como.\n",
        "\n",
        "$$HI = \\frac{h_{media} - h_{min} }{ h_{max} - h_{min}} $$\n",
        "\n",
        "\n"
      ]
    },
    {
      "cell_type": "code",
      "metadata": {
        "id": "kFOe7Yf7nkX5"
      },
      "source": [
        "# Indice hipsometrico\n"
      ],
      "execution_count": null,
      "outputs": []
    },
    {
      "cell_type": "markdown",
      "metadata": {
        "id": "uyjE30Hzwx2Q"
      },
      "source": [
        "---\n",
        "Recap\n",
        "\n",
        "* Hemos calculado variables morfométricas comumemente usadas para describir la morfologia de una cuenca en relación con la elevación a partir de las elevaciones del DEM y un shape file del perímetro de una cuenca. \n",
        "\n",
        "* El objetivo de caracterizar una cuenca desde el punto de vista geomorfológico es identicar patrones y anomalías que puedan ser relacionadas y/o interpretadas como influencia de la geología, el clima y/o el movimiento del agua. \n",
        "\n",
        "* Ejemplo. Distribución del índice hipsométrico en el valle del Zerafshan, Tian Shan. \n",
        "\n",
        "<img src=\"https://drive.google.com/uc?export=view&id=1eP9cBWrHiUkalBGXCBxmtlMEO1AMNhd3\"  width=1100 />\n",
        "\n",
        "---"
      ]
    },
    {
      "cell_type": "markdown",
      "metadata": {
        "id": "uOC65li-xHqT"
      },
      "source": [
        "--- \n",
        "# RESUMEN DÍA 2\n",
        "\n",
        "* Usamos lo aprendido el día 1 sobre la manipulación de datos raster para leer, visualizar y manipular imagenes satelitales. \n",
        "\n",
        "* Usamos lo aprendido sobre la información geográfica consignada en la metadata de los datos para plotear en un mismo gráfico datos en formato vector y raster.\n",
        "\n",
        "* Usamos la geometría de un dato en formato vector para extraer información puntual del DEM.\n",
        "\n",
        "* Usamos la información extraida del DEM para hacer algunos cálculos matemáticos y gráficos. \n",
        "\n",
        "---"
      ]
    }
  ]
}