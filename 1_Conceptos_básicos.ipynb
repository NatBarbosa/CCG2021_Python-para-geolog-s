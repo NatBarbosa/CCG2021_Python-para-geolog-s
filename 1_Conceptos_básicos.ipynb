{
  "nbformat": 4,
  "nbformat_minor": 0,
  "metadata": {
    "colab": {
      "name": "1. Conceptos básicos.ipynb",
      "provenance": [],
      "collapsed_sections": [],
      "include_colab_link": true
    },
    "kernelspec": {
      "name": "python3",
      "display_name": "Python 3"
    },
    "language_info": {
      "name": "python"
    }
  },
  "cells": [
    {
      "cell_type": "markdown",
      "metadata": {
        "id": "view-in-github",
        "colab_type": "text"
      },
      "source": [
        "<a href=\"https://colab.research.google.com/github/NatBarbosa/CCG2021_Python-para-geolog-s/blob/main/1_Conceptos_b%C3%A1sicos.ipynb\" target=\"_parent\"><img src=\"https://colab.research.google.com/assets/colab-badge.svg\" alt=\"Open In Colab\"/></a>"
      ]
    },
    {
      "cell_type": "markdown",
      "metadata": {
        "id": "I5j4CM2gtKwr"
      },
      "source": [
        "---\n",
        "# 1. NUESTRO PRIMER CÓDIGO"
      ]
    },
    {
      "cell_type": "code",
      "metadata": {
        "id": "hjJIYhXCPiUL"
      },
      "source": [
        ""
      ],
      "execution_count": null,
      "outputs": []
    },
    {
      "cell_type": "markdown",
      "metadata": {
        "id": "EynDZMQJe6k8"
      },
      "source": [
        "**Clases**\n",
        "\n",
        "**Funciones**"
      ]
    },
    {
      "cell_type": "code",
      "metadata": {
        "id": "o0Og32sxPuYT"
      },
      "source": [
        ""
      ],
      "execution_count": null,
      "outputs": []
    },
    {
      "cell_type": "code",
      "metadata": {
        "id": "sfuUPZg9PyfD"
      },
      "source": [
        ""
      ],
      "execution_count": null,
      "outputs": []
    },
    {
      "cell_type": "code",
      "metadata": {
        "id": "6bfzlz7NPyah"
      },
      "source": [
        ""
      ],
      "execution_count": null,
      "outputs": []
    },
    {
      "cell_type": "code",
      "metadata": {
        "id": "NAI8Q6hGPzWK"
      },
      "source": [
        ""
      ],
      "execution_count": null,
      "outputs": []
    },
    {
      "cell_type": "markdown",
      "metadata": {
        "id": "u0fyYPlLm9Vu"
      },
      "source": [
        "--- \n",
        "**Resumen** \n",
        "\n",
        "Sobre la sintaxis, los comentarios, la indentación etc\n",
        "Python  - objetos, atributos y métodos\n",
        "\n",
        "\n",
        "---"
      ]
    },
    {
      "cell_type": "markdown",
      "metadata": {
        "id": "vgMoxR3G8H4A"
      },
      "source": [
        "---\n",
        "# 2. TIPOS DE DATOS\n",
        "\n",
        "\n",
        "2.1 Simples\n",
        " - Numéricos (Entero, Real, Booleano)\n",
        " - Texto (String)\n",
        "\n",
        "2.2 Compuestos \n",
        "  - Lista - Modificable\n",
        "  - Tupla - Inmodificable\n",
        "  - Conjuntos (Set)\n",
        "  - Diccionario - Grupo de pares\n"
      ]
    },
    {
      "cell_type": "markdown",
      "metadata": {
        "id": "0xGOUhh0ANRi"
      },
      "source": [
        "##2.1 Simples"
      ]
    },
    {
      "cell_type": "markdown",
      "metadata": {
        "id": "67mgJueB9fth"
      },
      "source": [
        "### 2.1.1 Enteros, reales y texto"
      ]
    },
    {
      "cell_type": "code",
      "metadata": {
        "id": "TzpLRawrP64y"
      },
      "source": [
        ""
      ],
      "execution_count": null,
      "outputs": []
    },
    {
      "cell_type": "code",
      "metadata": {
        "id": "2svs6g5XQAfx"
      },
      "source": [
        ""
      ],
      "execution_count": null,
      "outputs": []
    },
    {
      "cell_type": "markdown",
      "metadata": {
        "id": "zQc1PitA9UFy"
      },
      "source": [
        "### 2.1.2 Variables booleanas\n",
        "Pueden tomar dos simples valores. En general elementos nulos o vacíos se consideran false y el resto True.\n",
        "\n",
        "*   bT= True \n",
        "*   bF= False\n",
        "\n",
        "**Operadores lógicos (booleanos And, Or, Not)** \n",
        "\n",
        "Son palabras o símbolos que permiten conectar de forma lógica conceptos o grupos de términos para así ampliar, limitar o definir tus búsquedas rápidamente\n"
      ]
    },
    {
      "cell_type": "code",
      "metadata": {
        "id": "l7OYx1RSQE15"
      },
      "source": [
        ""
      ],
      "execution_count": null,
      "outputs": []
    },
    {
      "cell_type": "code",
      "metadata": {
        "id": "AO2ZNROwQEo6"
      },
      "source": [
        ""
      ],
      "execution_count": null,
      "outputs": []
    },
    {
      "cell_type": "markdown",
      "metadata": {
        "id": "VDhjfvPuA3fi"
      },
      "source": [
        "## 2.2 Compuestos\n",
        "Las listas son colecciones ordenadas que pueden contener enteros, booleanos, texto, flotantes, listas y tuplas"
      ]
    },
    {
      "cell_type": "markdown",
      "metadata": {
        "id": "S3imeattNRS7"
      },
      "source": [
        "### 2.2.1 Listas y tuplas"
      ]
    },
    {
      "cell_type": "code",
      "metadata": {
        "id": "DeIEvz_VQJtR"
      },
      "source": [
        ""
      ],
      "execution_count": null,
      "outputs": []
    },
    {
      "cell_type": "code",
      "metadata": {
        "id": "AjKcEI-tQP6e"
      },
      "source": [
        ""
      ],
      "execution_count": null,
      "outputs": []
    },
    {
      "cell_type": "markdown",
      "metadata": {
        "id": "RtSEpF1BHPd3"
      },
      "source": [
        "**Acceder y recorrer una lista y/o tupla**"
      ]
    },
    {
      "cell_type": "code",
      "metadata": {
        "id": "bxeHnThVQK-h"
      },
      "source": [
        ""
      ],
      "execution_count": null,
      "outputs": []
    },
    {
      "cell_type": "code",
      "metadata": {
        "id": "v4gtEbYaQK0Z"
      },
      "source": [
        ""
      ],
      "execution_count": null,
      "outputs": []
    },
    {
      "cell_type": "code",
      "metadata": {
        "id": "G6qyKxX_QWvy"
      },
      "source": [
        ""
      ],
      "execution_count": null,
      "outputs": []
    },
    {
      "cell_type": "code",
      "metadata": {
        "id": "-viboBW0QWhI"
      },
      "source": [
        ""
      ],
      "execution_count": null,
      "outputs": []
    },
    {
      "cell_type": "markdown",
      "metadata": {
        "id": "xF7xhTABI_La"
      },
      "source": [
        "**Listas vs Tuplas**"
      ]
    },
    {
      "cell_type": "code",
      "metadata": {
        "id": "5xM2cvyCQaKx"
      },
      "source": [
        ""
      ],
      "execution_count": null,
      "outputs": []
    },
    {
      "cell_type": "code",
      "metadata": {
        "id": "sDnOoo3zQacx"
      },
      "source": [
        ""
      ],
      "execution_count": null,
      "outputs": []
    },
    {
      "cell_type": "code",
      "metadata": {
        "id": "AlcP6K7lQaxJ"
      },
      "source": [
        ""
      ],
      "execution_count": null,
      "outputs": []
    },
    {
      "cell_type": "markdown",
      "metadata": {
        "id": "i4bLsxuhSBFE"
      },
      "source": [
        "### 2.2.2 Conjuntos\n",
        "\n",
        "Es una colección no ordenada y sin elementos repetidos. Los usos básicos de éstos incluyen verificación de pertenencia y eliminación de entradas duplicadas. Los conjuntos también soportan operaciones matemáticas como la unión, intersección, diferencia, y diferencia simétrica."
      ]
    },
    {
      "cell_type": "code",
      "metadata": {
        "id": "T8KeqRE4QeqR"
      },
      "source": [
        ""
      ],
      "execution_count": null,
      "outputs": []
    },
    {
      "cell_type": "code",
      "metadata": {
        "id": "IAyiabOpQeVZ"
      },
      "source": [
        ""
      ],
      "execution_count": null,
      "outputs": []
    },
    {
      "cell_type": "code",
      "metadata": {
        "id": "wJHkaImFQeLx"
      },
      "source": [
        ""
      ],
      "execution_count": null,
      "outputs": []
    },
    {
      "cell_type": "markdown",
      "metadata": {
        "id": "lF5GSKi2OE54"
      },
      "source": [
        "### 2.2.3 Diccionarios\n",
        "\n",
        "Son un tipo de datos asociativos indexados por medio de claves. Es como pensarlo como un conjunto de pares clave:valor con el requerimiento de que las claves sean únicas (dentro de un diccionario)\n"
      ]
    },
    {
      "cell_type": "code",
      "metadata": {
        "id": "fUZtRwaZQjpK"
      },
      "source": [
        ""
      ],
      "execution_count": null,
      "outputs": []
    },
    {
      "cell_type": "markdown",
      "metadata": {
        "id": "Mb2q39iyLcwj"
      },
      "source": [
        "**Concepto de claves**"
      ]
    },
    {
      "cell_type": "code",
      "metadata": {
        "id": "LOdyON7TQj9J"
      },
      "source": [
        ""
      ],
      "execution_count": null,
      "outputs": []
    },
    {
      "cell_type": "code",
      "metadata": {
        "id": "__--eA5AQkOp"
      },
      "source": [
        ""
      ],
      "execution_count": null,
      "outputs": []
    },
    {
      "cell_type": "code",
      "metadata": {
        "id": "MKofeVuIQkeh"
      },
      "source": [
        ""
      ],
      "execution_count": null,
      "outputs": []
    },
    {
      "cell_type": "code",
      "metadata": {
        "id": "D5wHxuktQkzR"
      },
      "source": [
        ""
      ],
      "execution_count": null,
      "outputs": []
    },
    {
      "cell_type": "markdown",
      "metadata": {
        "id": "MocykA4c233Q"
      },
      "source": [
        "---\n",
        "\n",
        "# 3. LIBRERÍAS\n",
        "\n",
        "Numpy es una librería de Python especializada en el cálculo numérico y el análisis de datos especialmente para un gran volumen de datos. Incorpora una nueva clase de objetos llamados arreglos (arrays) que permite representar colecciones de datos de un mismo tipo en varias dimensiones, y funciones muy eficientes para su manipulación.\n",
        "\n",
        "<img src=\"https://drive.google.com/uc?export=view&id=1i-lbLti7BqrDtMJwcy5hrma2hMzSq33k\" width=300 />"
      ]
    },
    {
      "cell_type": "markdown",
      "metadata": {
        "id": "yYqNpNms__R0"
      },
      "source": [
        "## 3.1. Concepto de arreglos (Array)\n",
        "\n",
        "**La clase de objetos array**\n",
        "\n",
        "Un array es una estructura de datos de un mismo tipo organizada en forma de tabla o cuadrícula de distintas dimensiones.\n",
        "\n",
        "Las dimensiones de un array también se conocen como ejes.\n",
        "\n",
        "\n",
        "<img src=\"https://drive.google.com/uc?export=view&id=1_DUGbiJxn2CcIwkx0HKpLd6dr9Uw9A5R\" width=400 />\n",
        "\n",
        "\n",
        "Los arreglos tienen algunas similitudes con las listas:\n",
        "\n",
        "- Los elementos tienen un orden y se pueden acceder mediante su posición\n",
        "\n",
        "- Los elementos se pueden recorrer usando un ciclo for\n",
        "\n",
        "**Restricciones:**\n",
        "\n",
        "- Todos los elementos del arreglo deben ser del mismo tipo\n",
        "\n",
        "- En general, el tamaño del arreglo es fijo van creciendo dinámicamente como las listas\n",
        "\n",
        "- Se ocupan principalmente para almacenar datos numéricos\n",
        "\n",
        "\n",
        "\n",
        "\n",
        "\n",
        "\n"
      ]
    },
    {
      "cell_type": "code",
      "metadata": {
        "id": "VR5jFXdERMPq"
      },
      "source": [
        ""
      ],
      "execution_count": null,
      "outputs": []
    },
    {
      "cell_type": "code",
      "metadata": {
        "id": "mM5lwkTPRMyj"
      },
      "source": [
        ""
      ],
      "execution_count": null,
      "outputs": []
    },
    {
      "cell_type": "code",
      "metadata": {
        "id": "x4yqfOQuRT0k"
      },
      "source": [
        ""
      ],
      "execution_count": null,
      "outputs": []
    },
    {
      "cell_type": "code",
      "metadata": {
        "id": "IT3Oea7lRTy_"
      },
      "source": [
        ""
      ],
      "execution_count": null,
      "outputs": []
    },
    {
      "cell_type": "code",
      "metadata": {
        "id": "N3zlHZcgRTPh"
      },
      "source": [
        ""
      ],
      "execution_count": null,
      "outputs": []
    },
    {
      "cell_type": "code",
      "metadata": {
        "id": "fo5kRugURTHC"
      },
      "source": [
        ""
      ],
      "execution_count": null,
      "outputs": []
    },
    {
      "cell_type": "code",
      "metadata": {
        "id": "9UudKCiERS95"
      },
      "source": [
        ""
      ],
      "execution_count": null,
      "outputs": []
    },
    {
      "cell_type": "code",
      "metadata": {
        "id": "eqftUezXRSyK"
      },
      "source": [
        ""
      ],
      "execution_count": null,
      "outputs": []
    },
    {
      "cell_type": "code",
      "metadata": {
        "id": "za6-kTzHRScp"
      },
      "source": [
        ""
      ],
      "execution_count": null,
      "outputs": []
    },
    {
      "cell_type": "code",
      "metadata": {
        "id": "onmsOuzNRSSy"
      },
      "source": [
        ""
      ],
      "execution_count": null,
      "outputs": []
    },
    {
      "cell_type": "markdown",
      "metadata": {
        "id": "lqQUbjj9C6D9"
      },
      "source": [
        "---\n",
        "**Resumen**\n",
        "\n",
        "\n",
        "Python tiene como base diversos tipos de datos. Sin embargo, no existen los areglos (arrays).\n",
        "\n",
        "Para usar arreglos usamos una librería llamada Numpy - https://numpy.org/\n",
        "\n",
        "Para acceder a las funciones de numpy usamos notación punto\n",
        "\n",
        "El arreglo es un tipo de dato principal en el análisis espacial de datos. Arreglos bi-dimensionales son usados para representar modelos de elevacion digital (columnas y filas). Arreglos multi-dimensionales son usados para almacenar y procesar imagenes espectrales/multiespectrales y series de tiempo.\n",
        "\n",
        "Para acceder a los datos contenidos en un arreglo usamos *índices*. Los índices nos indican la posicion de un dato (pixel) en el arreglo. Entender este concepto es ¡fundamental! \n",
        "\n",
        "---"
      ]
    },
    {
      "cell_type": "markdown",
      "metadata": {
        "id": "-ZZXIYXOPDuE"
      },
      "source": [
        "# 4. MANEJO DE DIRECTORIOS\n",
        "\n",
        "El acceso a los datos para usar en el código es un tarea principal a la hora de programar. \n",
        "\n",
        "- Los datos para este curso fueron enviados con anterioridad. Por favor descargarlos y tenerlos en una carpeta de Google Drive. \n",
        "\n",
        "**Manejo de archivos y directorios**\n",
        "\n",
        "La librería para manejar directorios en Python se llama **os** - Provee funciones para interactuar con el sistema operativo.\n",
        "\n",
        "Para acceder a tus datos desde Google Colab necesitas:\n",
        "\n",
        "* Una autenticación desde tu cuenta asociada al Drive\n",
        "\n",
        "* Conexión de Google Colab con la carpeta donde almacenamos los datos"
      ]
    },
    {
      "cell_type": "code",
      "metadata": {
        "id": "JAiQw47aRnQZ"
      },
      "source": [
        ""
      ],
      "execution_count": null,
      "outputs": []
    },
    {
      "cell_type": "code",
      "metadata": {
        "id": "QG5yO67URo6J"
      },
      "source": [
        ""
      ],
      "execution_count": null,
      "outputs": []
    },
    {
      "cell_type": "code",
      "metadata": {
        "id": "1ItoqDwARoZB"
      },
      "source": [
        ""
      ],
      "execution_count": null,
      "outputs": []
    },
    {
      "cell_type": "code",
      "metadata": {
        "id": "ExWSZ0SqRrFp"
      },
      "source": [
        ""
      ],
      "execution_count": null,
      "outputs": []
    },
    {
      "cell_type": "markdown",
      "metadata": {
        "id": "bEY8oJZggQ-y"
      },
      "source": [
        "* ¿Qué información está almacenada en la carpeta del curso? "
      ]
    },
    {
      "cell_type": "code",
      "metadata": {
        "id": "e1U-1jIhRz0h"
      },
      "source": [
        ""
      ],
      "execution_count": null,
      "outputs": []
    },
    {
      "cell_type": "markdown",
      "metadata": {
        "id": "1k0OH6ErvreM"
      },
      "source": [
        "---\n",
        "\n",
        "**Resumen**\n",
        "\n",
        "Para acceder desde Google Colab a nuestro datos necesitamos:\n",
        "\n",
        "1. Tenerlos almacenados en la nube de Google Drive\n",
        "2. Autenticar el ingreso a nuestro datos\n",
        "\n",
        "Para navegar y modificar nuestras carpetas usamos las funciones de la libraría **os**\n",
        "\n",
        "---"
      ]
    },
    {
      "cell_type": "markdown",
      "metadata": {
        "id": "crxKW9gUZM7g"
      },
      "source": [
        "## 4.1 ¿Cómo acceder a todos los datos dentro de una carpeta?"
      ]
    },
    {
      "cell_type": "markdown",
      "metadata": {
        "id": "Yda2IjmdHsN6"
      },
      "source": [
        "\n",
        "\n",
        "Vemos que nuestra carpeta tiene otra carpeta dentro (subdirectorio). Para listar todos los archivos dentro de la carpeta necesitamos entrar a las subcarpetas. Esto lo podemos hacer por medio de un *bucle* \n",
        "\n",
        "**Bucles**\n",
        "\n",
        "Los bucles son herramientas de programación que permiten alterar el flujo normal de un programa. Nos permiten repetir una porción del código tantas veces como queramos. \n",
        "\n",
        "Sintaxis:\n",
        "\n",
        "1. Palabra clave 'for'.\n",
        "2. Declarar la variable donde se alojarán los items del elemento iterable.\n",
        "3. Operador 'in'.\n",
        "4. Elemento a iterar (lista, directorio, cadena, etc).\n",
        "5. Cuerpo de la repetición - acción a realizar.\n",
        "\n",
        "Para crear una lista de directorios, carpetas y nombres de archivos usamos la función walk de la libreria os. "
      ]
    },
    {
      "cell_type": "code",
      "metadata": {
        "id": "Gib5uZyGR5ay"
      },
      "source": [
        ""
      ],
      "execution_count": null,
      "outputs": []
    },
    {
      "cell_type": "markdown",
      "metadata": {
        "id": "ATBnP1MBZV7W"
      },
      "source": [
        "## 4.2 ¿Cómo crear una lista con los archivos que contiene una extensión de interés?"
      ]
    },
    {
      "cell_type": "markdown",
      "metadata": {
        "id": "PxEHvj9-Voyr"
      },
      "source": [
        "\n",
        "\n",
        "De la lista de archivos queremos tener la lista de todos los .tif. Para esto usamos condicionales.\n",
        "\n",
        "*Condicionales*\n",
        " \n",
        "Los condicionales se usan para tomar decisiones.\n",
        "Consisten básicamente en las siguientes partes principales:\n",
        "\n",
        "- Una prueba que evalúa a verdadero o falso.\n",
        "- Un bloque de código que se ejecuta si la prueba es verdadero.\n",
        "- Un bloque opcional de código si la prueba es falsa.\n",
        "\n",
        "Sintaxis del if:\n",
        "\n",
        "1. Palabra clave 'if'\n",
        "2. Condición\n",
        "3. Acción\n",
        "4. Palabra clave 'else' (opcional)\n",
        "5. Otra acción\n"
      ]
    },
    {
      "cell_type": "code",
      "metadata": {
        "id": "GpTRUA2rR_X7"
      },
      "source": [
        ""
      ],
      "execution_count": null,
      "outputs": []
    },
    {
      "cell_type": "markdown",
      "metadata": {
        "id": "VjDM926EZ2UQ"
      },
      "source": [
        "## 4.3 FUNCIÓN PARA ITERAR SOBRE ARCHIVOS"
      ]
    },
    {
      "cell_type": "markdown",
      "metadata": {
        "id": "wk9dVsNgcSL1"
      },
      "source": [
        "**Funciones**\n",
        "\n",
        "Una funcion permite definir un bloque de código reutilizable que se puede ejecutar muchas veces dentro de un programa. \n",
        "\n",
        "Sintaxis:\n",
        "\n",
        "1. Palabra clave 'def'\n",
        "2. Nombre de la función - se recomienda que sea autoexplanatoria, escrita en letras minúsculas y si incluye muchas palabras separarlas con _ para mejorar claridad\n",
        "3. Paréntesis con parámetros de entrada\n",
        "4. Dos puntos\n",
        "5. Bloque de código a ejecutar\n",
        "6. Sentencia de retorno (opcional)"
      ]
    },
    {
      "cell_type": "code",
      "metadata": {
        "id": "0uc95hi2SD6S"
      },
      "source": [
        ""
      ],
      "execution_count": null,
      "outputs": []
    },
    {
      "cell_type": "code",
      "metadata": {
        "id": "OSNsovNlSEXl"
      },
      "source": [
        ""
      ],
      "execution_count": null,
      "outputs": []
    },
    {
      "cell_type": "code",
      "metadata": {
        "id": "eMitKI4USElB"
      },
      "source": [
        ""
      ],
      "execution_count": null,
      "outputs": []
    },
    {
      "cell_type": "markdown",
      "metadata": {
        "id": "ybZx6gIdXX99"
      },
      "source": [
        "---\n",
        "**Resumen**\n",
        "\n",
        "Los bucles se usan para repetir una acción. \n",
        "\n",
        "**for** variable **in** iterable: \n",
        "  accción\n",
        "\n",
        "Los condicionales nos sirven para tomar decisiones. \n",
        "\n",
        "**if** condicion: \n",
        "  acción 1 \n",
        "**elif**: \n",
        "  acción 2 \n",
        "**else**: \n",
        "  acción 3\n",
        "\n",
        "Las funciones nos sirven para repetir la misma linea de codigo en nuestro programa sin necesidad de escribir todo de nuevo. \n",
        "\n",
        "**def** mi_funcion(a,b):\n",
        "  c = a*b\n",
        "  return c\n",
        "\n",
        "Recordar la importancia de indentar en python\n",
        "\n",
        "---"
      ]
    },
    {
      "cell_type": "markdown",
      "metadata": {
        "id": "2EtOy_9QecHO"
      },
      "source": [
        "# RESUMEN DEL DÍA 1-1\n",
        "\n",
        "Con este ejercicio ya sabes:\n",
        "\n",
        "* Cuales son los tipos de datos que se pueden usar en python y como usarlos\n",
        "\n",
        "* Importar librerías, documentación y funciones\n",
        "\n",
        "* Usar las librerías os para acceder, buscar rutas y directorios\n",
        "\n",
        "* Usar bucles y condicionales\n",
        "\n",
        "* Crear funciones"
      ]
    }
  ]
}