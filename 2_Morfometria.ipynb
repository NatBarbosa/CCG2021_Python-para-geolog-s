{
  "nbformat": 4,
  "nbformat_minor": 0,
  "metadata": {
    "colab": {
      "name": "2. Morfometria.ipynb",
      "provenance": [],
      "collapsed_sections": [],
      "include_colab_link": true
    },
    "kernelspec": {
      "name": "python3",
      "display_name": "Python 3"
    },
    "language_info": {
      "name": "python"
    }
  },
  "cells": [
    {
      "cell_type": "markdown",
      "metadata": {
        "id": "view-in-github",
        "colab_type": "text"
      },
      "source": [
        "<a href=\"https://colab.research.google.com/github/NatBarbosa/CCG2021_Python-para-geolog-s/blob/main/2_Morfometria.ipynb\" target=\"_parent\"><img src=\"https://colab.research.google.com/assets/colab-badge.svg\" alt=\"Open In Colab\"/></a>"
      ]
    },
    {
      "cell_type": "markdown",
      "metadata": {
        "id": "WcK-vH_rqBIw"
      },
      "source": [
        "# 0. LIBRERÍAS\n",
        "\n",
        "Al empezar un proyecto en Python es recomendable definir las librerías que se van a usar. Hay muchas librerías que hacen cosas cosas similares, pero tiene requerimientos de datos y software diferentes. Para evitarte problemas y frustaciones el primer paso es leer la documentacion de la librería de interes. \n",
        "\n",
        "Para este proyecto vamos a usar 5 librerías. \n",
        "\n",
        "Numpy: para el manejo de arrays -- https://numpy.org/\n",
        "\n",
        "Matplotlib: para visualizar -- https://matplotlib.org/\n",
        "\n",
        "\n",
        "Gdal: para procesar datos espaciales -- https://gdal.org/\n",
        "\n",
        "\n",
        "Rasterio: para procesar datos espaciales mas amigablemente -- https://rasterio.readthedocs.io/en/latest/intro.html#\n",
        "\n",
        "scipy: rutinas de procesamiento digital de imagenes -- https://www.scipy.org/\n",
        "\n",
        "Las librerías necesitan ser instaladas para poder acceder a ellas. Sin embargo, Colab tiene instaladas con una gran cantidad de librerías.\n",
        "\n",
        "Para revisar cuales estan instaladas empezemos por importar las que necesitamos\n"
      ]
    },
    {
      "cell_type": "code",
      "metadata": {
        "id": "FEZY5hJ1x_jh"
      },
      "source": [
        "# Librerias\n",
        "import numpy as np\n",
        "import rasterio \n",
        "import os\n",
        "# Read data from google drive\n",
        "from google.colab import drive\n",
        "import copy"
      ],
      "execution_count": null,
      "outputs": []
    },
    {
      "cell_type": "markdown",
      "metadata": {
        "id": "7bnv9GpSxg5h"
      },
      "source": [
        "Este mensaje de error nos indica que la librería rasterio no esta instalada. \n",
        "\n",
        "Hay muchas maneras de instalar librerías y la forma depende del IDE que estés usando. \n",
        "\n",
        "Para instalar librerías en Colab usamos el método PIP. \n",
        "\n",
        "Cada librería tiene su propia sintaxis de instalación. Para saber la sintaxis busca en la documentación! \n",
        "\n",
        "https://rasterio.readthedocs.io/en/latest/installation.html"
      ]
    },
    {
      "cell_type": "code",
      "metadata": {
        "id": "sCqFw0aIp3p2"
      },
      "source": [
        "%pip install rasterio"
      ],
      "execution_count": null,
      "outputs": []
    },
    {
      "cell_type": "code",
      "metadata": {
        "id": "f_f76s4-O-6X"
      },
      "source": [
        "# Librerias\n",
        "import numpy as np\n",
        "import rasterio \n",
        "import os\n",
        "# Read data from google drive\n",
        "from google.colab import drive\n",
        "import copy"
      ],
      "execution_count": null,
      "outputs": []
    },
    {
      "cell_type": "markdown",
      "metadata": {
        "id": "rtuVKwZwPFS7"
      },
      "source": [
        "## 0.1. Montar el driver de Google Drive para acceder a los datos"
      ]
    },
    {
      "cell_type": "code",
      "metadata": {
        "colab": {
          "base_uri": "https://localhost:8080/"
        },
        "id": "fd9Dz5SDtD0U",
        "outputId": "baf48148-64dd-48c1-8c67-b5b1270b8048"
      },
      "source": [
        "#Mount your drive to conect with Colab\n",
        "drive.mount('/content/drive')"
      ],
      "execution_count": null,
      "outputs": [
        {
          "output_type": "stream",
          "text": [
            "Mounted at /content/drive\n"
          ],
          "name": "stdout"
        }
      ]
    },
    {
      "cell_type": "code",
      "metadata": {
        "colab": {
          "base_uri": "https://localhost:8080/"
        },
        "id": "L6WtWrWusXkc",
        "outputId": "8aae8e5e-3093-48a1-9b85-493ee602d5c6"
      },
      "source": [
        "#Directorio inicial\n",
        "cwd = os.getcwd()\n",
        "print(\"Current working directory: \", cwd)"
      ],
      "execution_count": null,
      "outputs": [
        {
          "output_type": "stream",
          "text": [
            "Current working directory:  /content\n"
          ],
          "name": "stdout"
        }
      ]
    },
    {
      "cell_type": "markdown",
      "metadata": {
        "id": "Fh4fFkBK0CRv"
      },
      "source": [
        "---\n",
        "# 1. LEER DATOS EN FORMATO RASTER\n",
        "\n",
        "\n",
        "Vamos a leer un modelo de elevación digital del valle alto del Magdalena a la altura de la ciudad de Prado, Tolima. Este DEM fue adquirido por el satelite Alos Palsar usando un sensor SAR (Sintetic Aperture Radar).https://asf.alaska.edu/data-sets/sar-data-sets/alos-palsar/\n",
        "\n",
        "Para esto vamos a usar la librería rasterio!"
      ]
    },
    {
      "cell_type": "code",
      "metadata": {
        "id": "77hrmPYn_-vg"
      },
      "source": [
        "#Encontrar el DEM localizado en la subcarpeta Dia1/Ejercicio2\n",
        "os.chdir(\"/content/drive/MyDrive/PROJECTS/CCG_2021/CourseData/Dia1/Ejercicio2/\")\n",
        "cwd = os.getcwd()\n",
        "print(\"Current working directory: \", cwd)\n",
        "print(os.listdir(cwd))"
      ],
      "execution_count": null,
      "outputs": []
    },
    {
      "cell_type": "code",
      "metadata": {
        "id": "8v6qHibqyHRg"
      },
      "source": [
        "#Crear la ruta al DEM\n",
        "dem_path = os.path.join(cwd, '')\n",
        "\n",
        "#abrir el archivo con rasterio\n",
        "dem_open = rasterio.open(dem_path)"
      ],
      "execution_count": null,
      "outputs": []
    },
    {
      "cell_type": "markdown",
      "metadata": {
        "id": "7MDTeFp6PXZT"
      },
      "source": [
        "## 1.1. Información geográfica "
      ]
    },
    {
      "cell_type": "code",
      "metadata": {
        "id": "O-d4f2hkCECN"
      },
      "source": [
        "# Informacion geografica del DEM\n"
      ],
      "execution_count": null,
      "outputs": []
    },
    {
      "cell_type": "code",
      "metadata": {
        "id": "SLNTH5tqCStJ"
      },
      "source": [
        "#Acceder a un atributio de interes usando notacion punto\n",
        "print('Los datos tienen ' + str(-n_bandas-) + ' bandas')"
      ],
      "execution_count": null,
      "outputs": []
    },
    {
      "cell_type": "markdown",
      "metadata": {
        "id": "dMTO0OiN3rZl"
      },
      "source": [
        "Si en vez de abrir este raster en Python lo abrieras en Qgis. ¿Qué información revisarías primero? \n",
        "\n",
        "Abre la documentación de rasterio y lee:\n",
        "\n",
        "1. Numero de pixeles (tamaño del raster)\n",
        "2. Tipo de datos\n",
        "3. Sistema de coordenadas \n",
        "4. Límites geográficos \n",
        "5. Tamaño del pixel (Resolución espacial) - extraída de la 'geotransform' \n",
        "6. No data value\n",
        "\n",
        "https://rasterio.readthedocs.io/en/latest/quickstart.html"
      ]
    },
    {
      "cell_type": "code",
      "metadata": {
        "id": "xHyUJgPu1Br1"
      },
      "source": [
        "#Tamaño del raster \n",
        "print(str(    ) + ' pixeles de ancho')\n",
        "print(str(    ) + ' pixeles de alto')\n",
        "\n",
        "#Numero de pixeles \n",
        "npixels = \n",
        "print('El raster tiene un total de ' + str(npixels) + ' pixeles')"
      ],
      "execution_count": null,
      "outputs": []
    },
    {
      "cell_type": "code",
      "metadata": {
        "id": "Opsv2Bi446hD"
      },
      "source": [
        "#Tipo de dato\n"
      ],
      "execution_count": null,
      "outputs": []
    },
    {
      "cell_type": "code",
      "metadata": {
        "id": "TN9zX1bQ5__6"
      },
      "source": [
        "# Sistema de coordenadas\n"
      ],
      "execution_count": null,
      "outputs": []
    },
    {
      "cell_type": "code",
      "metadata": {
        "id": "m6iAqK-S6Mpi"
      },
      "source": [
        "# Limites geograficos\n"
      ],
      "execution_count": null,
      "outputs": []
    },
    {
      "cell_type": "code",
      "metadata": {
        "id": "j_OmAr4AYDnX"
      },
      "source": [
        "#resolucion\n"
      ],
      "execution_count": null,
      "outputs": []
    },
    {
      "cell_type": "code",
      "metadata": {
        "id": "t_93SQmEZ5e4"
      },
      "source": [
        "#no data value\n"
      ],
      "execution_count": null,
      "outputs": []
    },
    {
      "cell_type": "markdown",
      "metadata": {
        "id": "qupiHtUn6nkF"
      },
      "source": [
        "---\n",
        "\n",
        "EJERCICIO\n",
        "\n",
        "Con base en los límites geográficos y el tamaño del raster ¿Cuál es el tamaño del pixel?\n",
        "\n",
        "Sugerencia:\n",
        "* Recuerda que los objetos (información) puede ser accedidos por medio de índices!! \n",
        "\n",
        "---\n"
      ]
    },
    {
      "cell_type": "code",
      "metadata": {
        "id": "NHzAIdz46kDO"
      },
      "source": [
        "# Tu idea "
      ],
      "execution_count": null,
      "outputs": []
    },
    {
      "cell_type": "markdown",
      "metadata": {
        "id": "o3X62dJS8ztI"
      },
      "source": [
        "####  SOLUCIÓN\n",
        "\n",
        "<img src=\"https://drive.google.com/uc?export=view&id=1gG0_mmQcPPS2GauNP38ER7XpJVEkC5wI\"  width=500 />"
      ]
    },
    {
      "cell_type": "code",
      "metadata": {
        "id": "Y6E8N9vn7dll"
      },
      "source": [
        "# Calcular la distancia en x y y de los limites del raster"
      ],
      "execution_count": null,
      "outputs": []
    },
    {
      "cell_type": "markdown",
      "metadata": {
        "id": "ScyCJ72Fjw2y"
      },
      "source": [
        "---\n",
        "Recap\n",
        "\n",
        "* Instalamos la librería Rasterio usando PIP \n",
        "\n",
        "* Usamos la librería Rasterio para leer la información geografica (metadata) de nuestro raster\n",
        "\n",
        "* Usamos operaciones matemáticas simples (suma, resta, multiplicación, división) para calcular la resolución de nuestro raster con base en la información almacenada en la metadata\n",
        "\n",
        "---"
      ]
    },
    {
      "cell_type": "markdown",
      "metadata": {
        "id": "RMUgxXxB9X6S"
      },
      "source": [
        "# 2.VISUALIZACIÓN\n",
        "\n",
        "La manera más directa de operar y visualizar datos raster es convirtiendo los datos de un model0 espacial a una matriz de datos en formato array.\n",
        "\n",
        "Para visualizar los datos vamos a usar la librería **matplotlib**"
      ]
    },
    {
      "cell_type": "code",
      "metadata": {
        "id": "ubQp2D0hmkEW"
      },
      "source": [
        "from matplotlib import pyplot as plt"
      ],
      "execution_count": null,
      "outputs": []
    },
    {
      "cell_type": "code",
      "metadata": {
        "id": "m0EKvGhu7uEe"
      },
      "source": [
        "# leer el raster como un array de numpy"
      ],
      "execution_count": null,
      "outputs": []
    },
    {
      "cell_type": "code",
      "metadata": {
        "id": "31NM5PSM91-t"
      },
      "source": [
        "#Como se ve un array de numpy?\n",
        "\n",
        "\n",
        "#Cuales son las dimensiones del array?"
      ],
      "execution_count": null,
      "outputs": []
    },
    {
      "cell_type": "code",
      "metadata": {
        "id": "w8qzepxy-GLF"
      },
      "source": [
        "#Vamos a convertir este array de 3 dimensiones en 2\n"
      ],
      "execution_count": null,
      "outputs": []
    },
    {
      "cell_type": "code",
      "metadata": {
        "id": "qhi2Kxfv-VXr"
      },
      "source": [
        "#Plotear el array con Matplotlib"
      ],
      "execution_count": null,
      "outputs": []
    },
    {
      "cell_type": "markdown",
      "metadata": {
        "id": "XqJFZxnfyU6M"
      },
      "source": [
        "## 2.1. Rangos de alturas en el array "
      ]
    },
    {
      "cell_type": "code",
      "metadata": {
        "colab": {
          "base_uri": "https://localhost:8080/"
        },
        "id": "GZn4F3_eA5sR",
        "outputId": "718c6c70-cb64-4ae9-c542-3abb28930ca0"
      },
      "source": [
        "print('La máxima altura registrada en la zona de estudio es de ' + str(np.max(dem_array)))\n",
        "print('La mínima altura registrada en la zona de estudio es de ' + str(np.min(dem_array)))"
      ],
      "execution_count": null,
      "outputs": [
        {
          "output_type": "stream",
          "text": [
            "La máxima altura registrada en la zona de estudio es de 3651\n",
            "La mínima altura registrada en la zona de estudio es de 0\n"
          ],
          "name": "stdout"
        }
      ]
    },
    {
      "cell_type": "markdown",
      "metadata": {
        "id": "JqC-IJiaaCPC"
      },
      "source": [
        "La zona de estudio del ejemplo esta localizada en el valle del Magdalena a la altura de la ciudad de Ibagué. \n",
        "\n",
        "¿Tiene sentido que existan alturas de 0 m.s.n.m?\n",
        "\n",
        "Si recordamos bien, sabemos de antes que el valor de nodata es 0! \n",
        "\n",
        "¿Qué hacemos ahora? empecemos por visualizar la localización de nuestro nodata"
      ]
    },
    {
      "cell_type": "markdown",
      "metadata": {
        "id": "0Cf6wlRvybpy"
      },
      "source": [
        "## 2.2. Áreas sin información - no data"
      ]
    },
    {
      "cell_type": "code",
      "metadata": {
        "id": "eXjmh-xPArFd"
      },
      "source": [
        "#Buscar pixeles con no data\n"
      ],
      "execution_count": null,
      "outputs": []
    },
    {
      "cell_type": "markdown",
      "metadata": {
        "id": "GldQndWa_4OL"
      },
      "source": [
        "# 2.3. Máscaras\n",
        "\n",
        "En sensores remotos, las máscaras son matrices binarias (0 y 1) que se utilizan para enmascarar valores deseados. Una máscara común es la que se aplica a las imágenes satelitales para sacar las nubes del análisis. \n",
        "\n",
        "En nuestro caso, vamos a crear una máscara para identificar donde están localizados los pixeles anómalos\n",
        "\n",
        "Para crear una máscara necesitamos identificar un valor 'Threshold'. Para nuestro caso vamos a seleccionar 0 que es nuestro valor de no data. \n",
        "\n",
        "La sintaxis para crear una máscara es:\n",
        "\n",
        "1. Encontrar los valores del dem_array que sean mayor o menor a nuestro trehold\n",
        "2. Reemplazar esos valores con una constante\n"
      ]
    },
    {
      "cell_type": "code",
      "metadata": {
        "id": "Yo3iDQz1crxY"
      },
      "source": [
        "#Vamos a empezar creando un array de las misma dimensiones de nuestro raster pero con valores de 0\n"
      ],
      "execution_count": null,
      "outputs": []
    },
    {
      "cell_type": "code",
      "metadata": {
        "id": "HxQHK-aKcr9r"
      },
      "source": [
        "#Crear un condicional que escriba 1 en la mascara cuando el valor del DEM sea menor a 1 \n",
        "#podriamos usar un for y un if ....\n",
        "\n",
        "#Pero numpy ya nos ayuda\n"
      ],
      "execution_count": null,
      "outputs": []
    },
    {
      "cell_type": "code",
      "metadata": {
        "id": "ow0zw9IZblPJ"
      },
      "source": [
        "%matplotlib inline \n",
        "plt.figure(figsize=(10,6))\n",
        "plt.imshow(    , cmap='jet')\n",
        "plt.colorbar()\n",
        "plt.show()"
      ],
      "execution_count": null,
      "outputs": []
    },
    {
      "cell_type": "markdown",
      "metadata": {
        "id": "-X-mM0ajcWoP"
      },
      "source": [
        "Vemos que tenemos un típico ejemplo de efecto de borde. \n",
        "Para que estos valores de 0 altura no cuenten en nuestro procesamiento vamos a convertir los 0s en np.nan (not a number)\n",
        "\n",
        "np.nan is una representación *floating-point* de un no-numero!"
      ]
    },
    {
      "cell_type": "code",
      "metadata": {
        "id": "k-MOLtYFca22"
      },
      "source": [
        "#convertir el array de tipo int a float - reemplazar variable - posible en python pero muy peligroso!\n",
        "\n",
        "#reemplazar valores \n"
      ],
      "execution_count": null,
      "outputs": []
    },
    {
      "cell_type": "code",
      "metadata": {
        "id": "PMK8tom9fEZ2"
      },
      "source": [
        "#Cual es el minimo de altura ahora?\n"
      ],
      "execution_count": null,
      "outputs": []
    },
    {
      "cell_type": "markdown",
      "metadata": {
        "id": "ZIApFuNtj9GA"
      },
      "source": [
        "---\n",
        "Recap\n",
        "\n",
        "* Usamos numpy para leer nuestro DEM como una matriz\n",
        "\n",
        "* Ploteamos nuestra matriz como un mapa usando matplotlib #\n",
        "\n",
        "* Aprendimos a usar condicionales con numpy en una sola línea para identificar y reemplazar valores en nuestro arreglo.\n",
        "\n",
        "* Demostramos que nuestro DEM tiene bordes sin información aplicando una *mascaraca* al valor de no data\n",
        "\n",
        "* Convertimos nuestro array de 'int' a 'float' para reemplazar el valor de no data por np.nan \n",
        "\n",
        "---"
      ]
    },
    {
      "cell_type": "markdown",
      "metadata": {
        "id": "0QunQHqpIaFm"
      },
      "source": [
        "# 3. Calcular variables morfométricas simples\n",
        "\n",
        "Para calcular variables morfométricas simples la manera más directa es usar una librería que se llama gdal (https://gdal.org/programs/gdaldem.html) \n",
        "\n",
        "Esta librería es la base para todas las operaciones geográficas que se realizan en Python y en los diferentes programas, i.e., qgis, arcgis, saga...\n",
        "\n",
        "Esta librería la podemos utilizar sin necesidad de usar Python, sin embargo, es bueno poder integrar procedimientos en nuestra rutina o flujo de trabajo.\n",
        "\n",
        "Esta librería nos permite calcular 5 índices morfométricos diferentes usando una venta de observacion de 3x3 pixeles.\n",
        "\n",
        "* Pendiente\n",
        "* Aspecto\n",
        "* Índice de posiciÓn topogrÁfica (topographic position index)\n",
        "* índice de rugosidad del terreno (terrain ruggedness index)\n",
        "* Rugosidad de la superficie (surface roughness)\n",
        "\n",
        "Sintaxis:\n",
        "\n",
        "1.llamar funcion: gdal.DEMProcessing\n",
        "2.inputs:\n",
        "  * nombre del archivo resultante\n",
        "  * directorio de salida\n",
        "  * Índice morfométrico\n",
        "  * Llenar los bordes (True/False)\n",
        "3. leer el resultado como array para seguir visualizando y procesando"
      ]
    },
    {
      "cell_type": "code",
      "metadata": {
        "id": "b5xmBawimdvy"
      },
      "source": [
        "import gdal"
      ],
      "execution_count": null,
      "outputs": []
    },
    {
      "cell_type": "markdown",
      "metadata": {
        "id": "UFUJU96eRH8J"
      },
      "source": [
        "## 3.1. Mapa de sombras\n",
        "El hillshade es una herramienta muy usada en geomorfología porque resalta características difíciles de observar en el modelo de elevacion digital. El mapa de sombras genera un efecto de profundidad que resalta las pendientes escarpadas que conforman el Sinclinal del Prado. \n",
        "\n",
        "Vamos a hacer un zoom en la zona norte de la zona donde vemos una perturbación del paisaje. En esta zona convergen las fallas de Tomogó, Cucuana y La Colorada-Samaria. Las dos últimas ponen en contacto sedimentos del Neógeno (n4n6-Sc, areniscas liticas con intercalaciones de arcillolitas de color gris verdoso y conglomerados) con rocas de basamento (T3J-Pi, granodioritas que variande sienogranito a tonalitas de cuarzomonitas a cuarzomonzodiritas)"
      ]
    },
    {
      "cell_type": "code",
      "metadata": {
        "id": "fVB4WFPFQ6ru"
      },
      "source": [
        "hillshade"
      ],
      "execution_count": null,
      "outputs": []
    },
    {
      "cell_type": "code",
      "metadata": {
        "id": "-LU9aZPRRCV0"
      },
      "source": [
        "plt.figure(figsize=(10,6))\n",
        "plt.imshow(hillshade_array, cmap= 'gist_gray')\n",
        "plt.colorbar()\n",
        "plt.show()"
      ],
      "execution_count": null,
      "outputs": []
    },
    {
      "cell_type": "code",
      "metadata": {
        "id": "T5pjWfZ2RHr2"
      },
      "source": [
        "#Acercamiento a una zona deseada\n",
        "plt.figure(figsize=(10,6))\n",
        "plt.imshow(hillshade_array[:2000, :2000], cmap= 'gist_gray')\n",
        "plt.colorbar()\n",
        "plt.show()"
      ],
      "execution_count": null,
      "outputs": []
    },
    {
      "cell_type": "markdown",
      "metadata": {
        "id": "YtkzNmeYk5NF"
      },
      "source": [
        "### 3.1. Pendiente\n",
        "\n",
        "El cálculo de la pendiente se ha convertido casi en un insumo obligatorio en el análisis del paisaje para muchas disciplinas, sin embargo, poco paramos a pensar en la representatividad de su cálculo matemático y la verdadera relación con los procesos morfodinámicos que estamos mapeando o prediciendo. \n",
        "\n",
        "¿Cómo se calcula la pendiente a partir de un modelo digital de elevacion?\n",
        "\n",
        "<img src=\"https://drive.google.com/uc?export=view&id=1FyohfBBICqw7JAhOt9j9OXGGz05UAuWz\"  width=300 />\n",
        "\n",
        "<img src=\"https://drive.google.com/uc?export=view&id=18Ua8OwKPhoEPcdBGgb8Y2o0JhypQJtWI\"  width=300 />\n",
        "\n"
      ]
    },
    {
      "cell_type": "code",
      "metadata": {
        "id": "yqX7VSYhrUcE"
      },
      "source": [
        "#Crear el kernel para dx\n",
        "dx = np.zeros((3,3))"
      ],
      "execution_count": null,
      "outputs": []
    },
    {
      "cell_type": "code",
      "metadata": {
        "id": "gscLBAQfrUll"
      },
      "source": [
        "#Crear el kernel para dy\n",
        "dy = np.zeros((3,3))\n"
      ],
      "execution_count": null,
      "outputs": []
    },
    {
      "cell_type": "markdown",
      "metadata": {
        "id": "gQtUcPWhrent"
      },
      "source": [
        "Ya tenemos listos los kernels (operaciones matemáticas)...¿Cómo hacemos para mover la ventana de observación sobre el DEM? \n",
        "\n",
        "Para ejecutar la convolusión usamos la libreria scipy módulo signal. "
      ]
    },
    {
      "cell_type": "code",
      "metadata": {
        "id": "etzWm4fxrY9D"
      },
      "source": [
        "from scipy.signal import convolve2d"
      ],
      "execution_count": null,
      "outputs": []
    },
    {
      "cell_type": "code",
      "metadata": {
        "id": "J3aGNMFfrUsl"
      },
      "source": [
        "#Ejecutar las convoluciones"
      ],
      "execution_count": null,
      "outputs": []
    },
    {
      "cell_type": "code",
      "metadata": {
        "id": "rKjQdHVfrUyC"
      },
      "source": [
        "#Calculo de la pendiente"
      ],
      "execution_count": null,
      "outputs": []
    },
    {
      "cell_type": "code",
      "metadata": {
        "id": "nKnMJt8IsCXW"
      },
      "source": [
        "plt.figure(figsize=(10,6))\n",
        "#plt.imshow(dem_array[5000:6000, 4000:5000], cmap='gray')\n",
        "plt.imshow(hillshade_array)\n",
        "plt.imshow(slope_convolution, vmax=50, alpha=0.8)\n",
        "plt.colorbar()\n",
        "plt.show()"
      ],
      "execution_count": null,
      "outputs": []
    },
    {
      "cell_type": "markdown",
      "metadata": {
        "id": "wi_szAqKsFX3"
      },
      "source": [
        "¡Dato curioso!\n",
        "\n",
        "Esta no es la primera vez que usas el kernel que acabamos de construir para calcular la pendiente. Este kernel se llama **operador sobel** y es ampliamente utilizado en el procesamiento de imágenes, incluido instagram!  \n",
        "\n"
      ]
    },
    {
      "cell_type": "code",
      "metadata": {
        "id": "S_Z7sGB5AdEk"
      },
      "source": [
        "#Slope\n",
        "slope = gdal.DEMProcessing('slope.tif', dem_path, 'slope', computeEdges = True)\n",
        "slope_array = slope.ReadAsArray()"
      ],
      "execution_count": null,
      "outputs": []
    },
    {
      "cell_type": "code",
      "metadata": {
        "id": "fZlJctQFQ2zM"
      },
      "source": [
        "plt.figure(figsize=(10,6))\n",
        "plt.imshow(hillshade_array)\n",
        "plt.imshow(slope_array, vmin=0, vmax=50, alpha=0.8)\n",
        "plt.colorbar()\n",
        "plt.show()"
      ],
      "execution_count": null,
      "outputs": []
    },
    {
      "cell_type": "markdown",
      "metadata": {
        "id": "ioHANsWMg6K4"
      },
      "source": [
        "\n",
        "\n",
        "¿El cálculo de las pendientes en la zona nos resalta la predominancia de escarpes hacia el W?"
      ]
    },
    {
      "cell_type": "markdown",
      "metadata": {
        "id": "JB77bvFkuHiH"
      },
      "source": [
        "---\n",
        "\n",
        "Recap\n",
        "\n",
        "* Usamos la librería gdal para calcular un hillshade y la pendiente\n",
        "\n",
        "* Usamos el operador sobel para crear el mapa de pendientes usando el concepto de *convolucion*\n",
        "\n",
        "---"
      ]
    },
    {
      "cell_type": "markdown",
      "metadata": {
        "id": "gD_N3b4HTtQ1"
      },
      "source": [
        "***EJERCICIO EN GRUPOS!***\n",
        "\n",
        "Ya sabemos que gdal tiene la posibilidad de calcular en una línea de código diferentes variables morfométricas (https://gdal.org/programs/gdaldem.html) \n",
        "\n",
        "* Slope\n",
        "* Aspect\n",
        "* Terrain ruggedness index\n",
        "* Topographic position index\n",
        "* Surface roughness\n",
        "\n",
        "Crea una función que calcula y plotee cualquiera de las variables morfométricas ofrecidas en la librería gdal. "
      ]
    },
    {
      "cell_type": "code",
      "metadata": {
        "id": "UZi58aWGyGlm"
      },
      "source": [
        "#aspecto\n"
      ],
      "execution_count": null,
      "outputs": []
    },
    {
      "cell_type": "code",
      "metadata": {
        "id": "VWsTXtSZ0oui"
      },
      "source": [
        "# TPI"
      ],
      "execution_count": null,
      "outputs": []
    },
    {
      "cell_type": "code",
      "metadata": {
        "id": "iI1_mCNL0xOM"
      },
      "source": [
        ""
      ],
      "execution_count": null,
      "outputs": []
    },
    {
      "cell_type": "code",
      "metadata": {
        "id": "BIIZv1XI0xXH"
      },
      "source": [
        ""
      ],
      "execution_count": null,
      "outputs": []
    },
    {
      "cell_type": "markdown",
      "metadata": {
        "id": "F5VXqFGlw3uA"
      },
      "source": [
        "**Visualización**\n",
        "\n",
        "Es recomendable elegir una paleta de color y un intervalo de valores significativos para cada variable morfométrica. \n",
        "\n",
        "El uso del color es ampliamente subestimado, sin embargo, la selección de una paleta de colores inapropiada puede llevarnos a hacer conclusiones equivocadas.\n",
        "\n",
        "Python ofrece paletas de colores sequenciales, divergentes, categóricas y la tentativa 'arcoiris' -- Prohibida!!! \n",
        "\n",
        "https://matplotlib.org/stable/tutorials/colors/colormaps.html\n",
        "\n",
        "https://eos.org/features/visualizing-science-how-color-determines-what-we-see\n",
        "https://www.fabiocrameri.ch/colourmaps/\n",
        "\n",
        "\n",
        "Para aplicar diferentes visualizaciones a nuestra función usamos un diccionario para almacenar los parámetros. \n",
        "\n",
        "\n"
      ]
    },
    {
      "cell_type": "code",
      "metadata": {
        "id": "qhmjyeEmTerO"
      },
      "source": [
        "#Funcion  \n",
        "def gdal_morphometry(path, morphometry, **visualization):\n",
        "    '''\n",
        "    inputs:\n",
        "    path = enlace al dem\n",
        "    morphometry = palabra clave para el calculo del indice morfometrico deseado\n",
        "    *visualizacion = diccionario con parametros de visualizacion\n",
        "    '''\n",
        "    #Calculate morphometric index\n",
        "    morpho_object = gdal.DEMProcessing(morphometry + 'tif', path, morphometry,computeEdges = True)\n",
        "    #open as array\n",
        "    morpho_array = morpho_object.ReadAsArray()\n",
        "\n",
        "    plt.figure(figsize=(10,6))\n",
        "    plt.title(morphometry)\n",
        "    plt.imshow(morpho_array[70:-50, 25:-25], cmap = visualization['cmap'], vmin = visualization['vmin'], vmax = visualization['vmax'])\n",
        "    plt.colorbar()\n",
        "    plt.show()\n",
        "    \n",
        "    return morpho_array"
      ],
      "execution_count": null,
      "outputs": []
    },
    {
      "cell_type": "markdown",
      "metadata": {
        "id": "0MUp6nJxym4v"
      },
      "source": [
        "Vamos a usar nuestra función para calcular los posibles índices morfométricos faltantes\n",
        "\n",
        "* Aspecto "
      ]
    },
    {
      "cell_type": "code",
      "metadata": {
        "id": "PN2JQeSsUThG"
      },
      "source": [
        "vis_parameters = {'cmap' :'jet',\n",
        "                 'vmin' : '0',\n",
        "                 'vmax' : '361'}\n",
        "aspect = gdal_morphometry(dem_path,'aspect', **vis_parameters)"
      ],
      "execution_count": null,
      "outputs": []
    },
    {
      "cell_type": "markdown",
      "metadata": {
        "id": "M1Uynndfhwpk"
      },
      "source": [
        "* Índice de posición topográfica (TPI): Es calculado como la diferencia de elevación entre el pixel central y la media de elevación de de los pixeles circundantes dentro de una ventana de observación definida."
      ]
    },
    {
      "cell_type": "code",
      "metadata": {
        "id": "e13dIzzDhpwE"
      },
      "source": [
        "# Topographic position index: differrence between the central pixel and the mean of its surrounding cells \n",
        "vis_parameters = {'cmap' :'seismic',\n",
        "                 'vmin' : '-0.3',\n",
        "                 'vmax' : '0.3'}\n",
        "TPI = gdal_morphometry(dem_path,'TPI', **vis_parameters)"
      ],
      "execution_count": null,
      "outputs": []
    },
    {
      "cell_type": "markdown",
      "metadata": {
        "id": "2eJWwrABhUnL"
      },
      "source": [
        "* Rugosidad - Múltiples maneras de calcularla. \n",
        "\n",
        "Gdal nos ofrece dos métodos:\n",
        "\n",
        "      * Índice de rugosiad del terreno (TRI): Calculado como la mayor diferencia entre la elevación del píxel central y su celda circundante.\n",
        "    \n",
        "      * Rugosiad: Calculado como la diferencia media entre un píxel central y las celdas circundantes"
      ]
    },
    {
      "cell_type": "code",
      "metadata": {
        "id": "tS1bWpcqUWgj"
      },
      "source": [
        "vis_parameters = {'cmap' :'viridis',\n",
        "                 'vmin' : '0',\n",
        "                 'vmax' : '10'}\n",
        "TRI = gdal_morphometry(dem_path,'TRI', **vis_parameters)"
      ],
      "execution_count": null,
      "outputs": []
    },
    {
      "cell_type": "code",
      "metadata": {
        "id": "LG44pYG4jB-R"
      },
      "source": [
        "vis_parameters = {'cmap' :'viridis',\n",
        "                 'vmin' : '0',\n",
        "                 'vmax' : '40'}\n",
        "roughness = gdal_morphometry(dem_path,'roughness', **vis_parameters)"
      ],
      "execution_count": null,
      "outputs": []
    },
    {
      "cell_type": "markdown",
      "metadata": {
        "id": "Co3gJfXskkeJ"
      },
      "source": [
        "---\n",
        "Recap\n",
        "\n",
        "* Usamos la librería gdal.dem para calcular variables morfometricas simples, i.e., que son calculadas con una ventana de observación (kernel) de 3x3 pixeles. Estas lineas de codigo son equivalentes a un par de clicks en un programa GIS.\n",
        "\n",
        "* Creamos una función para calcular y plotear en una sola línea varias variables morfométricas. \n",
        "\n",
        "* Usamos diccionarios para crear parámetros de visualización de nuestros resultados\n",
        "\n",
        "---"
      ]
    },
    {
      "cell_type": "markdown",
      "metadata": {
        "id": "uQ4jmF42yXY-"
      },
      "source": [
        "# Para pensar...\n",
        "\n",
        "¿Cuáles son las escalas de los procesos que modifican el paisaje? \n",
        "\n",
        "¿Es 3x3 siempre la mejor escala de observación de procesos geológicos? \n",
        "\n",
        "¿Como definimos la escala de trabajo en geología?\n",
        "\n",
        "¿Cuales son las implicaciones de seleccionar una u otra escala espacial de trabajo? "
      ]
    },
    {
      "cell_type": "code",
      "metadata": {
        "id": "jkqTsr6a6VTu"
      },
      "source": [
        "#Comparación entre los resultados obtenidos de las diferentes variables morfométricas\n",
        "plt.figure(figsize=(20,20))\n",
        "\n",
        "plt.subplot(3, 2, 1)\n",
        "plt.imshow(hillshade_array, cmap= 'gist_gray')\n",
        "plt.imshow(dem_array, cmap='gist_earth', alpha=0.8)\n",
        "plt.title('Original DEM')\n",
        "plt.colorbar()\n",
        "\n",
        "plt.subplot(3, 2, 2)\n",
        "plt.imshow(hillshade_array, cmap= 'gist_gray')\n",
        "plt.imshow(slope_array, vmin=0, vmax=50, alpha=0.8)\n",
        "plt.title('Slope')\n",
        "plt.colorbar()\n",
        "\n",
        "plt.subplot(3, 2, 3)\n",
        "plt.imshow(hillshade_array, cmap= 'gist_gray')\n",
        "plt.imshow(aspect, cmap='jet', vmin=0, vmax=361, alpha=0.8)\n",
        "plt.title('Aspect')\n",
        "plt.colorbar()\n",
        "\n",
        "plt.subplot(3, 2, 4)\n",
        "plt.imshow(hillshade_array, cmap= 'gist_gray')\n",
        "plt.imshow(TPI, cmap='seismic', vmin=-0.3, vmax=0.3, alpha=0.8)\n",
        "plt.title('Posición topografica del terreno')\n",
        "plt.colorbar()\n",
        "\n",
        "plt.subplot(3, 2, 5)\n",
        "plt.imshow(hillshade_array, cmap= 'gist_gray')\n",
        "plt.imshow(TRI, cmap='viridis', vmin=0, vmax=10, alpha=0.8)\n",
        "plt.title('Rugosidad del terreno')\n",
        "plt.colorbar()\n",
        "\n",
        "plt.subplot(3, 2, 6)\n",
        "plt.imshow(hillshade_array, cmap= 'gist_gray')\n",
        "plt.imshow(roughness, cmap='viridis', vmin=0, vmax=40, alpha=0.8)\n",
        "plt.title('Rugosidada')\n",
        "plt.colorbar()\n",
        "\n",
        "plt.tight_layout()"
      ],
      "execution_count": null,
      "outputs": []
    },
    {
      "cell_type": "code",
      "metadata": {
        "id": "1j5GrDCGxY6k"
      },
      "source": [
        "#Comparación entre los resultados obtenidos de las diferentes variables morfométricas\n",
        "plt.figure(figsize=(10,15))\n",
        "\n",
        "plt.subplot(3, 2, 1)\n",
        "plt.imshow(hillshade_array[:2000, :2000], cmap= 'gist_gray')\n",
        "plt.imshow(dem_array[:2000, :2000], cmap='gist_earth', alpha=0.8)\n",
        "plt.title('Original DEM')\n",
        "plt.colorbar()\n",
        "\n",
        "plt.subplot(3, 2, 2)\n",
        "plt.imshow(hillshade_array[:2000, :2000], cmap= 'gist_gray')\n",
        "plt.imshow(slope_array[:2000, :2000], vmin=0, vmax=50, alpha=0.8)\n",
        "plt.title('Slope')\n",
        "plt.colorbar()\n",
        "\n",
        "plt.subplot(3, 2, 3)\n",
        "plt.imshow(hillshade_array[:2000, :2000], cmap= 'gist_gray')\n",
        "plt.imshow(aspect[:2000, :2000], cmap='jet', vmin=0, vmax=361, alpha=0.8)\n",
        "plt.title('Aspect')\n",
        "plt.colorbar()\n",
        "\n",
        "plt.subplot(3, 2, 4)\n",
        "plt.imshow(hillshade_array[:2000, :2000], cmap= 'gist_gray')\n",
        "plt.imshow(TPI[:2000, :2000], cmap='seismic', vmin=-0.3, vmax=0.3, alpha=0.8)\n",
        "plt.title('Posición topografica del terreno')\n",
        "plt.colorbar()\n",
        "\n",
        "plt.subplot(3, 2, 5)\n",
        "plt.imshow(hillshade_array[:2000, :2000], cmap= 'gist_gray')\n",
        "plt.imshow(TRI[:2000, :2000], cmap='viridis', vmin=0, vmax=10, alpha=0.8)\n",
        "plt.title('Rugosidad del terreno')\n",
        "plt.colorbar()\n",
        "\n",
        "plt.subplot(3, 2, 6)\n",
        "plt.imshow(hillshade_array[:2000, :2000], cmap= 'gist_gray')\n",
        "plt.imshow(roughness[:2000, :2000], cmap='viridis', vmin=0, vmax=40, alpha=0.8)\n",
        "plt.title('Rugosidada')\n",
        "plt.colorbar()"
      ],
      "execution_count": null,
      "outputs": []
    },
    {
      "cell_type": "markdown",
      "metadata": {
        "id": "SwcYsP4BLIpb"
      },
      "source": [
        "# 5. VARIABLES MORFOMETRICAS COMPLEJAS\n",
        "\n",
        "El cálculo de las variables morfométricas 'simples' usando una ventana de 3x3 son el estandar de los softaware de SIG. Aprender a calcularlas usando Python nos optimiza el procesamiento de los datos. \n",
        "\n",
        "Sin embargo, hay cálculos que requieren una mayor flexibilidad y que son mucho mas complicados de aplicar y automatizar en un programa de SIG. Un ejemplo es el uso de vetanas de observación mayores a 3x3 pixeles. \n",
        "\n",
        "En procesamiento de imágenes se utiliza el concepto de *convoluciones*, estas nos permiten calcular indices morfométricos con ventanas de observación - kernel mayores a 3x3 pixeles. Esto nos permite hacer análisis regionales y poder identificar procesos morfodinámicos a diferentes escalas controladas por nosotros. \n"
      ]
    },
    {
      "cell_type": "markdown",
      "metadata": {
        "id": "DbBQ3zSFMJEd"
      },
      "source": [
        "# 5.1. Importancia de la ventana de observación\n",
        "\n",
        "La selección de una ventana de obervación es equivalente a la selección de la escala de trabajo. \n",
        "\n",
        "Implementación:\n",
        "1. Definir tamano del kernel o ventana de observación\n",
        "2. Crear el kernel que aplique la fórmula matemática que deseamos\n",
        "3. Ejecutar la convolucion\n",
        "4. Visualizar los resultados"
      ]
    },
    {
      "cell_type": "code",
      "metadata": {
        "colab": {
          "base_uri": "https://localhost:8080/"
        },
        "id": "Zyo5yJREMZr8",
        "outputId": "0d71d45d-9b07-4fbb-a30b-ec9893b27d88"
      },
      "source": [
        "#Tamano de la ventana de observacion - kernel\n",
        "ksize = 11\n",
        "print(f'La ventana de observacion es de {ksize*dem_open.transform[0]} m')"
      ],
      "execution_count": null,
      "outputs": [
        {
          "output_type": "stream",
          "text": [
            "La ventana de observacion es de 137.5 m\n"
          ],
          "name": "stdout"
        }
      ]
    },
    {
      "cell_type": "code",
      "metadata": {
        "id": "uBzAS-vEMZyl"
      },
      "source": [
        "#Crear kernel cuadrado\n",
        "\n",
        "\n",
        "#crear el kernel de media\n"
      ],
      "execution_count": null,
      "outputs": []
    },
    {
      "cell_type": "code",
      "metadata": {
        "id": "ta2gUOGYMZ5K"
      },
      "source": [
        "#Ver el kernel en relacion al paisaje - mascara del kernel en el DEM\n"
      ],
      "execution_count": null,
      "outputs": []
    },
    {
      "cell_type": "code",
      "metadata": {
        "id": "AeBAgUkyMZ9M"
      },
      "source": [
        "#Ver el tamano del kernel en relacion a la zona de estudio\n",
        "plt.figure(figsize=(10, 3.5))\n",
        "plt.imshow(hillshade_array, cmap= 'gist_gray')\n",
        "plt.imshow(k[0:100, 0:100], cmap='gist_earth', alpha=0.8)\n",
        "plt.colorbar()\n"
      ],
      "execution_count": null,
      "outputs": []
    },
    {
      "cell_type": "markdown",
      "metadata": {
        "id": "DR0RUoiANUOs"
      },
      "source": [
        "Pregunta del millon - ¿Cómo seleccionamos la ventana de observación adecuada? \n",
        "\n",
        "* Escala espacial de trabajo\n",
        "* Escala de los procesos a mapear, monitorear, quantificar, predecir\n",
        "* Experiencia \n",
        "* Ensayo y error"
      ]
    },
    {
      "cell_type": "markdown",
      "metadata": {
        "id": "D_qAzsptMPSO"
      },
      "source": [
        "\n",
        "## 5.2. Relieve local \n",
        "\n",
        "\n",
        "El concepto de relieve local es muy importante en geomorfología porque es como se evalua la evolucion del paisaje. \n",
        "\n",
        "Se calcula como la diferencia del valor maximo en elevación menos el valor mínimo. \n",
        "\n",
        "Ya existen filtros para encontrar estos valores. Los usamos por facilidad y eficiencia."
      ]
    },
    {
      "cell_type": "code",
      "metadata": {
        "id": "E4xqmb47LP9p"
      },
      "source": [
        "from scipy.ndimage import maximum_filter, minimum_filter, gaussian_filter"
      ],
      "execution_count": null,
      "outputs": []
    },
    {
      "cell_type": "code",
      "metadata": {
        "id": "M92uTiyr19Pf"
      },
      "source": [
        "kernel_size = \n",
        "\n",
        "#matriz de valores minimos\n",
        "\n",
        "\n",
        "#matriz de valores maximos\n",
        "\n",
        "\n",
        "#relieve local\n"
      ],
      "execution_count": null,
      "outputs": []
    },
    {
      "cell_type": "markdown",
      "metadata": {
        "id": "Btog3QT82ONj"
      },
      "source": [
        "---\n",
        "\n",
        "***Ejercicio rápido***\n",
        "\n",
        "Crear una función para evaluar el relieve local en una ventana de observación dada\n",
        "\n",
        "---"
      ]
    },
    {
      "cell_type": "code",
      "metadata": {
        "id": "xKJics8eLc9q"
      },
      "source": [
        "# funcion"
      ],
      "execution_count": null,
      "outputs": []
    },
    {
      "cell_type": "code",
      "metadata": {
        "id": "q9bLwoD9LeVB"
      },
      "source": [
        "#evaluar la funcion \n",
        "dem_lr_10 = local_relief(dem_array, 10) # 125m"
      ],
      "execution_count": null,
      "outputs": []
    },
    {
      "cell_type": "code",
      "metadata": {
        "id": "kf3j48bANsX6"
      },
      "source": [
        "dem_lr_30 = local_relief(dem_array, 10) # 300m"
      ],
      "execution_count": null,
      "outputs": []
    },
    {
      "cell_type": "code",
      "metadata": {
        "id": "bLfb9l5xNeY1"
      },
      "source": [
        "dem_lr_40 = local_relief(dem_array, 40) # 500m"
      ],
      "execution_count": null,
      "outputs": []
    },
    {
      "cell_type": "code",
      "metadata": {
        "id": "oGBkeRX-NmAf"
      },
      "source": [
        "dem_lr_80 = local_relief(dem_array, 80) # 1000m"
      ],
      "execution_count": null,
      "outputs": []
    },
    {
      "cell_type": "code",
      "metadata": {
        "id": "n09KVVkb6KG8"
      },
      "source": [
        "plt.figure(figsize=(10,15))\n",
        "\n",
        "plt.subplot(3, 2, 1)\n",
        "plt.imshow(hillshade_array, cmap= 'gist_gray')\n",
        "plt.imshow(dem_array, cmap='gist_earth', alpha=0.8)\n",
        "plt.title('DEM')\n",
        "plt.colorbar()\n",
        "\n",
        "plt.subplot(3, 2, 2)\n",
        "plt.imshow(hillshade_array, cmap= 'gist_gray')\n",
        "plt.imshow(slope_convolution, cmap='viridis', alpha=0.8)\n",
        "plt.title('Pediente')\n",
        "plt.colorbar()\n",
        "\n",
        "plt.subplot(3, 2, 3)\n",
        "plt.imshow(hillshade_array, cmap= 'gist_gray')\n",
        "plt.imshow(dem_lr_10, cmap='magma', alpha=0.8)\n",
        "plt.title('Relieve local - k=10')\n",
        "plt.colorbar()\n",
        "\n",
        "plt.subplot(3, 2, 4)\n",
        "plt.imshow(hillshade_array, cmap= 'gist_gray')\n",
        "plt.imshow(dem_lr_30, cmap='magma', alpha=0.8)\n",
        "plt.title('Relieve local - k=30')\n",
        "plt.colorbar()\n",
        "\n",
        "plt.subplot(3, 2, 5)\n",
        "plt.imshow(hillshade_array, cmap= 'gist_gray')\n",
        "plt.imshow(dem_lr_40, cmap='magma', alpha=0.8)\n",
        "plt.title('Relieve local - k=40')\n",
        "plt.colorbar()\n",
        "\n",
        "plt.subplot(3, 2, 6)\n",
        "plt.imshow(hillshade_array, cmap= 'gist_gray')\n",
        "plt.imshow(dem_lr_80, cmap='magma', alpha=0.8)\n",
        "plt.title('Relieve local - k=80')\n",
        "plt.colorbar()"
      ],
      "execution_count": null,
      "outputs": []
    },
    {
      "cell_type": "code",
      "metadata": {
        "id": "N3jL-JzHNzmP"
      },
      "source": [
        "plt.figure(figsize=(10,15))\n",
        "\n",
        "plt.subplot(3, 2, 1)\n",
        "plt.imshow(hillshade_array[:2000, :2000], cmap= 'gist_gray')\n",
        "plt.imshow(dem_array[:2000, :2000], cmap='gist_earth', alpha=0.8)\n",
        "plt.title('DEM')\n",
        "plt.colorbar()\n",
        "\n",
        "plt.subplot(3, 2, 2)\n",
        "plt.imshow(hillshade_array[:2000, :2000], cmap= 'gist_gray')\n",
        "plt.imshow(slope_convolution[:2000, :2000], cmap='viridis', alpha=0.8)\n",
        "plt.title('Pediente')\n",
        "plt.colorbar()\n",
        "\n",
        "plt.subplot(3, 2, 3)\n",
        "plt.imshow(hillshade_array[:2000, :2000], cmap= 'gist_gray')\n",
        "plt.imshow(dem_lr_10[:2000, :2000], cmap='magma', alpha=0.8)\n",
        "plt.title('Relieve local - k=10')\n",
        "plt.colorbar()\n",
        "\n",
        "plt.subplot(3, 2, 4)\n",
        "plt.imshow(hillshade_array[:2000, :2000], cmap= 'gist_gray')\n",
        "plt.imshow(dem_lr_30[:2000, :2000], cmap='magma', alpha=0.8)\n",
        "plt.title('Relieve local - k=30')\n",
        "plt.colorbar()\n",
        "\n",
        "plt.subplot(3, 2, 5)\n",
        "plt.imshow(hillshade_array[:2000, :2000], cmap= 'gist_gray')\n",
        "plt.imshow(dem_lr_40[:2000, :2000], cmap='magma', alpha=0.8)\n",
        "plt.title('Relieve local - k=40')\n",
        "plt.colorbar()\n",
        "\n",
        "plt.subplot(3, 2, 6)\n",
        "plt.imshow(hillshade_array[:2000, :2000], cmap= 'gist_gray')\n",
        "plt.imshow(dem_lr_80[:2000, :2000], cmap='magma', alpha=0.8)\n",
        "plt.title('Relieve local - k=80')\n",
        "plt.colorbar()"
      ],
      "execution_count": null,
      "outputs": []
    },
    {
      "cell_type": "markdown",
      "metadata": {
        "id": "MgyX_QzI2fJw"
      },
      "source": [
        "## 5.3. Enmascarar valores de interés"
      ]
    },
    {
      "cell_type": "code",
      "metadata": {
        "id": "PoThxIiNN66M"
      },
      "source": [
        "#Mascara de zonas con mayor incisión \n"
      ],
      "execution_count": null,
      "outputs": []
    },
    {
      "cell_type": "code",
      "metadata": {
        "id": "vrdipqf0PjBG"
      },
      "source": [
        "plt.figure(figsize=(10,6))\n",
        "plt.imshow(hillshade_array)\n",
        "plt.imshow(dem_lr_40*mascara_incision, alpha=0.8)\n",
        "plt.colorbar()\n",
        "plt.show()"
      ],
      "execution_count": null,
      "outputs": []
    },
    {
      "cell_type": "markdown",
      "metadata": {
        "id": "Zm6gQ5fcnqRL"
      },
      "source": [
        "---\n",
        "\n",
        "Recap\n",
        "\n",
        "* Hemos aprendido como aplicar una convolución usando kernels de diferentes tamaños a nuestro DEM.\n",
        "\n",
        "* Ejemplificamos como crear una operación matematica para calcular el relieve local. \n",
        "\n",
        "* Creamos una función para evaluar diferentes ventanas de observación y visualmente evaluar la más adecuada para una análisis regional del paisaje.\n",
        "\n",
        "* Usamos una máscara para identificar las zonas de mayor relieve local, interpretadas como areas de mayor incizión. \n",
        "\n",
        "---"
      ]
    },
    {
      "cell_type": "markdown",
      "metadata": {
        "id": "lbw6eUiTocBw"
      },
      "source": [
        "# RESUMEN DIA 1\n",
        "\n",
        "* Aplicamos conceptos basicos de python para leer, visualizar, manipular, calcular y clasificar elementos del paisaje usando un modelo digital de elevación y tecnicas de geomorfometría. "
      ]
    },
    {
      "cell_type": "code",
      "metadata": {
        "id": "uJ0VRTm1orQU"
      },
      "source": [
        ""
      ],
      "execution_count": null,
      "outputs": []
    }
  ]
}