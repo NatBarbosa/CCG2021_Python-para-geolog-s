{
  "nbformat": 4,
  "nbformat_minor": 0,
  "metadata": {
    "colab": {
      "name": "3. Imagenes satelitales.ipynb",
      "provenance": [],
      "collapsed_sections": [],
      "include_colab_link": true
    },
    "kernelspec": {
      "name": "python3",
      "display_name": "Python 3"
    },
    "language_info": {
      "name": "python"
    }
  },
  "cells": [
    {
      "cell_type": "markdown",
      "metadata": {
        "id": "view-in-github",
        "colab_type": "text"
      },
      "source": [
        "<a href=\"https://colab.research.google.com/github/NatBarbosa/CCG2021_Python-para-geolog-s/blob/main/3_Imagenes_satelitales.ipynb\" target=\"_parent\"><img src=\"https://colab.research.google.com/assets/colab-badge.svg\" alt=\"Open In Colab\"/></a>"
      ]
    },
    {
      "cell_type": "markdown",
      "metadata": {
        "id": "9oxJbt3_7zeT"
      },
      "source": [
        "# 0. LIBRERÍAS\n",
        "\n",
        "Las librerías para el manejo básico de imagenes espectrales son las mismas que usamos para trabajar con los datos de elevación \n",
        "\n",
        "Siempre hay que apoyarse en la documentación! \n",
        "\n",
        "Numpy -- https://numpy.org/\n",
        "\n",
        "Matplotlib -- https://matplotlib.org/\n",
        "\n",
        "Gdal -- https://gdal.org/\n",
        "\n",
        "Rasterio -- https://rasterio.readthedocs.io/en/latest/intro.html#\n",
        "\n",
        "Glob -- https://docs.python.org/3/library/glob.html\n",
        "\n",
        "\n",
        "Las librerías necesitan ser instaladas para poder acceder a ellas. Colab viene con una gran cantidad de librerías instaladas. Para revisar cuales están instaladas, empezemos por importar las que necesitamos\n"
      ]
    },
    {
      "cell_type": "code",
      "metadata": {
        "id": "fcFkRJPs4vMP"
      },
      "source": [
        "%pip install rasterio"
      ],
      "execution_count": null,
      "outputs": []
    },
    {
      "cell_type": "code",
      "metadata": {
        "colab": {
          "base_uri": "https://localhost:8080/"
        },
        "id": "Q8RIs3D1v5ed",
        "outputId": "10cdd963-9ed5-4c48-f2e7-fdf10b59bb3f"
      },
      "source": [
        "# Importar todas las librerias\n",
        "import numpy as np\n",
        "from matplotlib import pyplot as plt\n",
        "import gdal\n",
        "import rasterio\n",
        "# Read data from google drive\n",
        "from google.colab import drive\n",
        "drive.mount('/content/drive')\n",
        "import copy\n",
        "import os"
      ],
      "execution_count": null,
      "outputs": [
        {
          "output_type": "stream",
          "text": [
            "Drive already mounted at /content/drive; to attempt to forcibly remount, call drive.mount(\"/content/drive\", force_remount=True).\n"
          ],
          "name": "stdout"
        }
      ]
    },
    {
      "cell_type": "code",
      "metadata": {
        "colab": {
          "base_uri": "https://localhost:8080/"
        },
        "id": "Q9jBTB484tk4",
        "outputId": "952e825b-b208-45e1-befa-b8376faf7bf6"
      },
      "source": [
        "#Encontrar el DEM localizado en la subcarpeta Dia1/Ejercicio2\n",
        "cwd = os.getcwd()"
      ],
      "execution_count": null,
      "outputs": [
        {
          "output_type": "stream",
          "text": [
            "/content\n"
          ],
          "name": "stdout"
        }
      ]
    },
    {
      "cell_type": "markdown",
      "metadata": {
        "id": "XH-8EddP5Soe"
      },
      "source": [
        "# 1. LEER LOS DATOS\n",
        "\n",
        "Vamos a usar rasterio para identificar las propiedades espaciales y espectrales de nuestros datos. \n",
        "\n",
        "Vamos a empezar por leer la imagen en color verdadero (TCI) a 10 cm de resolución. "
      ]
    },
    {
      "cell_type": "code",
      "metadata": {
        "id": "ANtuq7sH8M9F"
      },
      "source": [
        "os.chdir(\"/content/drive/MyDrive/PROJECTS/CCG_2021/CourseData/Dia2/Ejercicio3/S2A_MSIL2A_20190822T152641_N0213_R025_T18NVK_20190822T210428/R10m/\")\n",
        "cwd = os.getcwd()\n",
        "print(cwd)"
      ],
      "execution_count": null,
      "outputs": []
    },
    {
      "cell_type": "code",
      "metadata": {
        "id": "hsbBcTfr5Qzv"
      },
      "source": [
        "#Que datos hay en la carpeta?"
      ],
      "execution_count": null,
      "outputs": []
    },
    {
      "cell_type": "code",
      "metadata": {
        "id": "9BYGN9Ao5-jh"
      },
      "source": [
        "#Crear la ruta a la imagen TCI (True Color Image)\n"
      ],
      "execution_count": null,
      "outputs": []
    },
    {
      "cell_type": "code",
      "metadata": {
        "id": "HG4G-JNk6K7x"
      },
      "source": [
        "#Abrir la imagen con rasterio\n"
      ],
      "execution_count": null,
      "outputs": []
    },
    {
      "cell_type": "code",
      "metadata": {
        "id": "bz1IAQ7C6RW1"
      },
      "source": [
        "# Informacion geografica de la imagen\n"
      ],
      "execution_count": null,
      "outputs": []
    },
    {
      "cell_type": "code",
      "metadata": {
        "colab": {
          "base_uri": "https://localhost:8080/"
        },
        "id": "SZR7_52n6VIl",
        "outputId": "5ded1661-994d-4d55-9893-a936eb76184b"
      },
      "source": [
        "#Cuantas bandas tienen la image?\n"
      ],
      "execution_count": null,
      "outputs": [
        {
          "output_type": "stream",
          "text": [
            "Los datos tienen 3 bandas\n"
          ],
          "name": "stdout"
        }
      ]
    },
    {
      "cell_type": "markdown",
      "metadata": {
        "id": "SnDkg1ab-iSB"
      },
      "source": [
        "# 1.1. Extraer cada banda de una imagen multi-bandas\n",
        "\n",
        "La imagen TCI es una areglo 3D."
      ]
    },
    {
      "cell_type": "code",
      "metadata": {
        "id": "-wEEXNCf-c2R"
      },
      "source": [
        "# leer la imagen como un arreglo de numpy\n"
      ],
      "execution_count": null,
      "outputs": []
    },
    {
      "cell_type": "code",
      "metadata": {
        "id": "Olc5D2Ub-uN_"
      },
      "source": [
        "#Como es la estructura del arreglo?\n"
      ],
      "execution_count": null,
      "outputs": []
    },
    {
      "cell_type": "markdown",
      "metadata": {
        "id": "HIM1HV_GAWFr"
      },
      "source": [
        "Paraa plotear usando el método imshow de matplotlib la estructura del arreglo debe ser:\n",
        "* (M,N)\n",
        "* (M,N,3) - RGB\n",
        "* (M.N,4) - RGBA"
      ]
    },
    {
      "cell_type": "code",
      "metadata": {
        "id": "bYOvJcod-yK3"
      },
      "source": [
        "#Empecemos por extraer cada banda de interes usando slicing\n"
      ],
      "execution_count": null,
      "outputs": []
    },
    {
      "cell_type": "code",
      "metadata": {
        "id": "tkd7wdcw_LEx"
      },
      "source": [
        "#Veamos una banda\n",
        "plt.figure(figsize=(10,6))\n",
        "plt.imshow(red, cmap='Reds')\n",
        "plt.colorbar()\n",
        "plt.show()\n"
      ],
      "execution_count": null,
      "outputs": []
    },
    {
      "cell_type": "code",
      "metadata": {
        "id": "3Stf_ulo_svz"
      },
      "source": [
        "#Vamos a crear un array 3D en el orden y con los datos que necesitamos - metodo stack\n"
      ],
      "execution_count": null,
      "outputs": []
    },
    {
      "cell_type": "code",
      "metadata": {
        "id": "yB8XXnjBC2XH"
      },
      "source": [
        "#plotear\n"
      ],
      "execution_count": null,
      "outputs": []
    },
    {
      "cell_type": "markdown",
      "metadata": {
        "id": "Pt4tlQFzD-qS"
      },
      "source": [
        "# 1.2. Leer bandas individuales\n",
        "\n",
        "La imagen que leímos solo contiene 3 bandas. Con anterioridad vimos que Sentinel tiene 13 bandas y que cada banda tiene resolución espacial diferente. \n",
        "\n",
        "Estas bandas estan guardadas de manera individual en una carpeta que se llama 'GRANULE'. Sin embargo, para disminuir la carga de datos adicionales las hemos separada en la carpeta con el nombre:\n",
        "\n",
        "S2A_MSIL2A_20190822T152641_N0213_R025_T18NVK_20190822T210428\n",
        "\n",
        "*Convenciones del nombre*\n",
        "- S2A: Mision\n",
        "- MSIL2A: Nivel de procesamiento L-2A (BOA). \n",
        "- 20190822: fecha de la adquisicion (Tiempo en UTC)\n",
        "- N0213: Numero de la linea base de procesamiento (https://sentinel.esa.int/web/sentinel/technical-guides/sentinel-2-msi/processing-baseline)\n",
        "- R025: Numero de la orbita relativa\n",
        "- T18NVK: Numero del tile\n",
        "\n"
      ]
    },
    {
      "cell_type": "code",
      "metadata": {
        "id": "Ryy7rY_4HFul"
      },
      "source": [
        "#Revisar de nuevo como esta la informacion\n"
      ],
      "execution_count": null,
      "outputs": []
    },
    {
      "cell_type": "markdown",
      "metadata": {
        "id": "I_71u4H3ZCfU"
      },
      "source": [
        "### Jp2\n",
        "\n",
        "Las imagenes de Sentinel2 estan guardadas en un formato llamado 'JPEG 2000' - jp2. Este es un formato de compresión de imágenes que permite guardar imágenes de gran tamaño mejorando el radio de compresión vs calidad.\n",
        "\n",
        "Como las imágenes estan guardadas en imágenes separadas vamos a usar la librería *Glob* para crear la ruta a cada una de las imágenes. Esta librería nos 'ahorra' crear el for que creamos al inicio del curso"
      ]
    },
    {
      "cell_type": "code",
      "metadata": {
        "id": "EqAv6nS1aT90"
      },
      "source": [
        "import glob"
      ],
      "execution_count": null,
      "outputs": []
    },
    {
      "cell_type": "code",
      "metadata": {
        "id": "lVZ2L_RJHndA"
      },
      "source": [
        "#Crear el path para cada imagen con una misma extension\n",
        "\n"
      ],
      "execution_count": null,
      "outputs": []
    },
    {
      "cell_type": "code",
      "metadata": {
        "id": "h_OzBdF7I4WK"
      },
      "source": [
        "#Leer b8 - NIR [5]\n"
      ],
      "execution_count": null,
      "outputs": []
    },
    {
      "cell_type": "code",
      "metadata": {
        "id": "Fn1LdY9nLKJm"
      },
      "source": [
        "#Reshape\n"
      ],
      "execution_count": null,
      "outputs": []
    },
    {
      "cell_type": "code",
      "metadata": {
        "id": "TUDb1TYANQna"
      },
      "source": [
        "# Leer B4 - Red [4]\n"
      ],
      "execution_count": null,
      "outputs": []
    },
    {
      "cell_type": "code",
      "metadata": {
        "id": "REH60Wy_NaTB"
      },
      "source": [
        "#Reshape\n"
      ],
      "execution_count": null,
      "outputs": []
    },
    {
      "cell_type": "code",
      "metadata": {
        "id": "veRZ9mKvNaau"
      },
      "source": [
        "#plt.figure(figsize=(10,6))\n",
        "#plt.imshow(b4, cmap='Reds')\n",
        "#plt.colorbar()\n",
        "#plt.show()"
      ],
      "execution_count": null,
      "outputs": []
    },
    {
      "cell_type": "markdown",
      "metadata": {
        "id": "ej1WYJUSiJ51"
      },
      "source": [
        "---\n",
        "Recap\n",
        "\n",
        "* Las imágenes satelitales (espectrales) se leen de la misma manera que el DEM. Ambos tienen el mismo formato de almacenamiento: Raster. \n",
        "\n",
        "* Las imágenes satelitales espectrales y multiespectrales pueden ser almacenadas de dos maneras:\n",
        "\n",
        "a. Raster multibandas\n",
        "\n",
        "b. Cada banda en una imagén\n",
        "\n",
        "* Para visualizar las imágenes con combinaciones de colores (True Color and false color) es necesario crear un arreglo de 3 dimensiones (M, N, bandas) \n",
        "\n",
        "CONBINACIONES DE COLORES COMÚNES\n",
        "\n",
        "* B08, B04, B03 (Near infrared, red, green): Se usa para identificar densidad de plantas y su nivel de salud\n",
        "\n",
        "* B12, B08, B04 (SWIR): La banda infrarojo cercano soporta la identificación de contenido de agua. Esta banda es útil para distinguir tipos de nubes, hielo y nieve. Altamente usada en el mapeo de areas afectadas por incendios. Muchos tipos de rocas también tienen una respuesta característica en el infrarojo cercano.\n",
        "\n",
        "* B12, B11, B02: Estimación de contenido de agua en plantas y suelo. \n",
        "\n",
        "\n",
        "\n"
      ]
    },
    {
      "cell_type": "markdown",
      "metadata": {
        "id": "YNBnnWo3orQR"
      },
      "source": [
        "# 2. CALCULAR ÍNDICES ESPECTRALES\n",
        "\n",
        "$$NVDI = \\frac{NIR-Red}{NIR + Red} $$\n",
        "\n",
        "- Red = B4\n",
        "- NIR = B8\n",
        "\n",
        "*dtype*\n",
        "\n",
        "La propiedad dtype de los arreglos de numpy nos habla del tipo de dato almacenado. \n",
        "Por ejemplo, las bandas estan almacenadas como enteros de 16 bits.\n",
        "\n",
        "Los bits se usan para medir la capacidad de almacenamiento de una memoria digital. Bit es un dígito binario."
      ]
    },
    {
      "cell_type": "code",
      "metadata": {
        "id": "KioeBNeegIph"
      },
      "source": [
        "#Tipo de dato del arreglo"
      ],
      "execution_count": null,
      "outputs": []
    },
    {
      "cell_type": "code",
      "metadata": {
        "id": "In5KvpgMa3jf"
      },
      "source": [
        "#redefinir el tipo de dato a float32 para tener decimales\n"
      ],
      "execution_count": null,
      "outputs": []
    },
    {
      "cell_type": "code",
      "metadata": {
        "id": "o080e13xa5BE"
      },
      "source": [
        ""
      ],
      "execution_count": null,
      "outputs": []
    },
    {
      "cell_type": "code",
      "metadata": {
        "id": "9zr5dHTLbsRL",
        "colab": {
          "base_uri": "https://localhost:8080/"
        },
        "outputId": "0ef20883-5bb7-4799-aabb-58bd9f1c4672"
      },
      "source": [
        "#Calcular el NDVI\n",
        "\n"
      ],
      "execution_count": null,
      "outputs": [
        {
          "output_type": "stream",
          "text": [
            "/usr/local/lib/python3.7/dist-packages/ipykernel_launcher.py:2: RuntimeWarning: invalid value encountered in true_divide\n",
            "  \n"
          ],
          "name": "stderr"
        }
      ]
    },
    {
      "cell_type": "markdown",
      "metadata": {
        "id": "2OZv58-CMFXF"
      },
      "source": [
        "¿Qué significa este error? \n",
        "\n",
        "Hay NaN, Inf, NIF por ahi. El dataset necesita una limpieza. Para este ejercicio académico vamos a continuar así.\n",
        "\n",
        "Para uso en aplicaciones es necesario pre-procesar las imágenes, empezando por identificar donde estan los valores anomalos. Referirse a Ejercicio2.\n",
        "\n"
      ]
    },
    {
      "cell_type": "code",
      "metadata": {
        "id": "nGYlTwgSanLo"
      },
      "source": [
        "#ver el array resultante\n"
      ],
      "execution_count": null,
      "outputs": []
    },
    {
      "cell_type": "code",
      "metadata": {
        "id": "XXlHQ1vTpM_v"
      },
      "source": [
        "#Plot Ndvi\n",
        "plt.figure(figsize=(10,6))\n",
        "plt.imshow(NDVI, vmin=-1, vmax=1)\n",
        "plt.colorbar()\n",
        "plt.show()"
      ],
      "execution_count": null,
      "outputs": []
    },
    {
      "cell_type": "code",
      "metadata": {
        "id": "5SrvMxT0Tz-7"
      },
      "source": [
        "#Zoom en el rio al sur [6000:, 6000:]\n"
      ],
      "execution_count": null,
      "outputs": []
    },
    {
      "cell_type": "markdown",
      "metadata": {
        "id": "gHBTbq4qO-O-"
      },
      "source": [
        "Hay múltiples maneras de clasificar el NDVI dependiendo de la aplicación. \n",
        "\n",
        "Para este ejemplo vamos a clasificar en 6 clases:\n",
        "\n",
        "* 1 = Vegetacion densa       (NDVI>0.5)\n",
        "* 2 = Vegetacion intermedia  (NDVI>0.140 y NDVI< 0.5)\n",
        "* 3 = Vegetacion escasa      (NDVI>0.090 y NDVI< 0.140\n",
        "* 4 = Suelo expuesto         (NDVI>0.025 y NDVI< 0.090)\n",
        "* 5 = Nubes                  (NDVI<-0.257 y NDVI< 0.025)\n",
        "* 6 = Superficie de agua     (NDVI>-0.257)"
      ]
    },
    {
      "cell_type": "code",
      "metadata": {
        "id": "4IHbBdBlpOI1"
      },
      "source": [
        "#Reclasifiy NDVI usando condicionales de numpy"
      ],
      "execution_count": null,
      "outputs": []
    },
    {
      "cell_type": "code",
      "metadata": {
        "id": "4vtjlAjyQib4"
      },
      "source": [
        "#Mi escala de colores\n",
        "from matplotlib import colors\n",
        "mi_cmap = colors.ListedColormap(['darkgreen', 'limegreen', 'yellowgreen', 'goldenrod', 'azure', 'blue'])"
      ],
      "execution_count": null,
      "outputs": []
    },
    {
      "cell_type": "code",
      "metadata": {
        "id": "V1VCBEdPPyEW"
      },
      "source": [
        "#Visualizacion con labels\n",
        "\n",
        "plt.show()"
      ],
      "execution_count": null,
      "outputs": []
    },
    {
      "cell_type": "markdown",
      "metadata": {
        "id": "R9oRqo6Lkh1_"
      },
      "source": [
        "---\n",
        "Recap\n",
        "\n",
        "* Los índices espectrales mapean los cambios de pendiente entre una banda característica y otra. Esto indica una característica particular de la respuesta espectral de un material. \n",
        "\n",
        "* Hay muchos índices pre-establecidos, sin embargo, es posible (y recomendable) crear índices propios dependiendo de la aplicación y los materiales de interés. \n",
        "\n",
        "* Una forma rápida y sencilla de clasificar imágenes es usando 'thresholds'. Estos son valores previamente identificados como separadores entre clases. \n",
        "\n",
        "* Otra formas de clasificar imágenes es usando algorítmos de agrupación automática (k-means), o entrenar un modelo con base en información obtenida en campo (clasificación supervisada). \n",
        "\n",
        "---"
      ]
    },
    {
      "cell_type": "markdown",
      "metadata": {
        "id": "sSjBfGsClh9j"
      },
      "source": [
        "# 3. EXPORTAR\n",
        "\n",
        "Procedimiento\n",
        "\n",
        "1. Definir información geográfica de destino\n",
        "2. Definir folder y nombre de destino\n",
        "3. Escribir el array en en el folder "
      ]
    },
    {
      "cell_type": "code",
      "metadata": {
        "id": "mAk9N-bNkflu"
      },
      "source": [
        "# Informacion geografica\n"
      ],
      "execution_count": null,
      "outputs": []
    },
    {
      "cell_type": "code",
      "metadata": {
        "id": "QrErRB3epREN"
      },
      "source": [
        "# Export NDVI\n",
        "\n",
        "#ruta de salida\n",
        "\n",
        "\n",
        "#guardar el array\n"
      ],
      "execution_count": null,
      "outputs": []
    },
    {
      "cell_type": "markdown",
      "metadata": {
        "id": "9HDM0hzzlW8a"
      },
      "source": [
        "---\n",
        "\n",
        "Recap\n",
        "\n",
        "* Para exportar el array resultado de una análisis se usa la información geográfica de la información obtenida.\n",
        "\n",
        "---"
      ]
    },
    {
      "cell_type": "markdown",
      "metadata": {
        "id": "BcceVRFgliQS"
      },
      "source": [
        "--- \n",
        "\n",
        "RESUMEN 2-1\n",
        "\n",
        "Con este notebook hemos aprendido:\n",
        "\n",
        "1. A abrir, visualizar y manipular imágenes espectrales \n",
        "2. A calcular índices morfométricos \n",
        "3. Clasificar diferentes materiales en un area usando el método de thresholding \n",
        "4. Exporta los resultados \n",
        "\n",
        "---"
      ]
    },
    {
      "cell_type": "markdown",
      "metadata": {
        "id": "0JI1N5eWIdhq"
      },
      "source": [
        "--- \n",
        "\n",
        "EJERCICIO EN GRUPOS \n",
        "\n",
        "1. Visualiza las imágenes con diferentes combinaciones de bandas \n",
        "2. Calcula otros índices espectrales de tu interés \n",
        "\n",
        "Ideas de los indices mas usados! \n",
        "\n",
        "https://www.agridico.com/l/lista-de-indices-espectrales-en-sentinel-2-y-landsat/\n",
        "\n",
        "---"
      ]
    },
    {
      "cell_type": "markdown",
      "metadata": {
        "id": "akJ1YquPJNmA"
      },
      "source": [
        "Alternativa para abrir todas las bandas al mismo tiempo.\n",
        "\n",
        "Como las imágenes son pesadas, se demora un poco\n",
        "\n",
        "\n",
        "```\n",
        "bands = {}\n",
        "for p in paths:\n",
        "  name_img = os.path.splitext(os.path.basename(p))[0] # Nombre de la imagen\n",
        "  band = name_img.split(sep='_')[-1] # Numero de banda'\n",
        "  f = rasterio.open(p).read() # Abrir la imagen\n",
        "  bands[band] = f # almacenar los datos de la imagen en el diccionario\n",
        "\n",
        "print(bands.keys())\n",
        "```\n",
        "\n"
      ]
    },
    {
      "cell_type": "code",
      "metadata": {
        "id": "OsSalE0O5DgA"
      },
      "source": [
        "# Leer bandas de interes"
      ],
      "execution_count": null,
      "outputs": []
    },
    {
      "cell_type": "code",
      "metadata": {
        "id": "zuZgcAKX5Fr4"
      },
      "source": [
        "# calcular el indice de interes"
      ],
      "execution_count": null,
      "outputs": []
    },
    {
      "cell_type": "code",
      "metadata": {
        "id": "z5lNdJpQ5HLV"
      },
      "source": [
        "# plotear"
      ],
      "execution_count": null,
      "outputs": []
    },
    {
      "cell_type": "code",
      "metadata": {
        "id": "blnRE8e-5Ipe"
      },
      "source": [
        "# Clasificar"
      ],
      "execution_count": null,
      "outputs": []
    },
    {
      "cell_type": "code",
      "metadata": {
        "id": "hHo0C3ts5Lct"
      },
      "source": [
        ""
      ],
      "execution_count": null,
      "outputs": []
    }
  ]
}